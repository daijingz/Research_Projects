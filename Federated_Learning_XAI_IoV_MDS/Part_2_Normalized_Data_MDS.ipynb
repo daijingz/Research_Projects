{
 "cells": [
  {
   "cell_type": "markdown",
   "id": "47d26ce3",
   "metadata": {},
   "source": [
    "# IoV FL-based Misbehavior Detection Part 2 - Normalized Data MDS"
   ]
  },
  {
   "cell_type": "markdown",
   "id": "ea04e859",
   "metadata": {},
   "source": [
    "<b>Author</b>: Jingze Dai, McMaster University\n",
    "<br>\n",
    "<b>Research Supervisor</b>: Dr.Jiaqi Huang, University of Central Missouri\n",
    "<br>\n",
    "<b>Key Topics</b>: Federated Learning, Explainable AI"
   ]
  },
  {
   "cell_type": "markdown",
   "id": "e3feeb6d",
   "metadata": {},
   "source": [
    "<a name=\"toc\"></a>\n",
    "## Table of Contents\n",
    "* [Section 1: Summary of Section Structures](#1-bullet)\n",
    "* [Section 2: Environment Setup](#2-bullet)\n",
    "* [Section 3.1: Generating the final dataset (Method 1 - Euclidean Distance)](#3-1-bullet)\n",
    "* [Section 3.2: Generated Data Testing (Method 1 - Euclidean Distance)](#3-2-bullet)"
   ]
  },
  {
   "cell_type": "markdown",
   "id": "dc448dc4",
   "metadata": {},
   "source": [
    "<a class=\"anchor\" id=\"1-bullet\"><h3><b>Section 1</b>: Summary of Section Structures</h3></a> \n",
    "<br>\n",
    "[Back to Menu](#toc)"
   ]
  },
  {
   "cell_type": "markdown",
   "id": "02db3ab8",
   "metadata": {},
   "source": [
    "<b>Section 1</b>: Summary of Section Structures\n",
    "<ul>\n",
    "  <li><b>This Section</b></li>\n",
    "  <li>Introduces each section's main contents, for a better understanding of readers.</li>\n",
    "</ul>\n",
    "\n",
    "<b>Section 2</b>: Environment Setup\n",
    "<ul>\n",
    "  <li>Builds necessary enviroments and installs required tools.</li>\n",
    "  <li>Load and access datasets.</li>\n",
    "</ul>\n",
    "\n",
    "<b>Section 3-1</b>: Generating the final dataset (Method 1 - Euclidean Distance)\n",
    "<ul>\n",
    "  <li>Using the Euclidean distance method to generate a transformed dataset</li>\n",
    "</ul>\n",
    "\n",
    "<b>Section 3-2</b>: Generated Data Testing (Method 1 - Euclidean Distance)\n",
    "<ul>\n",
    "  <li>Inspections and data cleaning of the Section 3-1 generated dataset.</li>\n",
    "</ul>"
   ]
  },
  {
   "cell_type": "markdown",
   "id": "988d80d1",
   "metadata": {},
   "source": [
    "<a class=\"anchor\" id=\"2-bullet\"><h3><b>Section 2</b>: Environment Setup</h3></a> \n",
    "<br>\n",
    "[Back to Menu](#toc)"
   ]
  },
  {
   "cell_type": "code",
   "execution_count": 3,
   "id": "5bc4b62e",
   "metadata": {},
   "outputs": [
    {
     "name": "stdout",
     "output_type": "stream",
     "text": [
      "Column names in the dataset:\n",
      "Index(['type', 'sendTime', 'sender', 'senderPseudo', 'messageID', 'class',\n",
      "       'posx', 'posy', 'posz', 'posx_n', 'posy_n', 'posz_n', 'spdx', 'spdy',\n",
      "       'spdz', 'spdx_n', 'spdy_n', 'spdz_n', 'aclx', 'acly', 'aclz', 'aclx_n',\n",
      "       'acly_n', 'aclz_n', 'hedx', 'hedy', 'hedz', 'hedx_n', 'hedy_n',\n",
      "       'hedz_n'],\n",
      "      dtype='object')\n"
     ]
    }
   ],
   "source": [
    "import pandas as pd\n",
    "\n",
    "file_path = 'mixalldata_clean.csv'\n",
    "df = pd.read_csv(file_path)\n",
    "\n",
    "print(\"Column names in the dataset:\")\n",
    "print(df.columns)"
   ]
  },
  {
   "cell_type": "code",
   "execution_count": 2,
   "id": "165845e5",
   "metadata": {},
   "outputs": [
    {
     "name": "stdout",
     "output_type": "stream",
     "text": [
      "   type      sendTime  sender  senderPseudo  messageID  class        posx  \\\n",
      "0     4  72002.302942  130137     101301377  422013806      0  266.982401   \n",
      "1     4  72003.302942  130137     101301377  422023410      0  266.827208   \n",
      "2     4  72004.302942  130137     101301377  422032081      0  266.420297   \n",
      "3     4  72005.302942  130137     101301377  422040712      0  268.912026   \n",
      "4     4  72006.302942  130137     101301377  422052949      0  268.242276   \n",
      "\n",
      "        posy  posz    posx_n  ...  aclz    aclx_n    acly_n  aclz_n      hedx  \\\n",
      "0  32.336955   0.0  3.480882  ...   0.0  0.000862  0.000862     0.0 -0.102790   \n",
      "1  34.624145   0.0  3.546261  ...   0.0  0.000107  0.001040     0.0 -0.099856   \n",
      "2  38.836461   0.0  3.544045  ...   0.0  0.000172  0.001661     0.0 -0.099856   \n",
      "3  45.414229   0.0  3.340080  ...   0.0  0.000171  0.001654     0.0 -0.100172   \n",
      "4  53.729986   0.0  3.328872  ...   0.0  0.000193  0.001852     0.0 -0.097105   \n",
      "\n",
      "       hedy  hedz     hedx_n     hedy_n  hedz_n  \n",
      "0  0.994703   0.0  20.038218  17.541001     0.0  \n",
      "1  0.995002   0.0  20.441139  14.467283     0.0  \n",
      "2  0.995002   0.0  20.850473  11.941528     0.0  \n",
      "3  0.994970   0.0  21.323229   9.633965     0.0  \n",
      "4  0.995274   0.0  21.788034   7.824555     0.0  \n",
      "\n",
      "[5 rows x 30 columns]\n"
     ]
    }
   ],
   "source": [
    "print(df.head())"
   ]
  },
  {
   "cell_type": "markdown",
   "id": "5c4042e2",
   "metadata": {},
   "source": [
    "<a class=\"anchor\" id=\"3-1-bullet\"><h3><b>Section 3.1</b>: Generating the final dataset (Method 1 - Euclidean Distance)</h3></a> \n",
    "<br>\n",
    "[Back to Menu](#toc)"
   ]
  },
  {
   "cell_type": "code",
   "execution_count": 8,
   "id": "9f3ef5c8",
   "metadata": {},
   "outputs": [
    {
     "name": "stdout",
     "output_type": "stream",
     "text": [
      "   type      sendTime  sender  senderPseudo  messageID  class         pos  \\\n",
      "0     4  72002.302942  130137     101301377  422013806      0  268.933600   \n",
      "1     4  72003.302942  130137     101301377  422023410      0  269.064287   \n",
      "2     4  72004.302942  130137     101301377  422032081      0  269.236040   \n",
      "3     4  72005.302942  130137     101301377  422040712      0  272.719875   \n",
      "4     4  72006.302942  130137     101301377  422052949      0  273.570521   \n",
      "\n",
      "      pos_n       spd     spd_n       acl     acl_n  hed      hed_n  \n",
      "0  4.917271  1.212767  0.000000  2.131618  0.001219  1.0  26.631126  \n",
      "1  5.032356  3.149541  0.001046  2.110864  0.001046  1.0  25.042812  \n",
      "2  4.933492  5.078437  0.002716  1.794447  0.001670  1.0  24.027949  \n",
      "3  4.731177  7.237398  0.004379  1.821157  0.001663  1.0  23.398577  \n",
      "4  4.700795  9.328836  0.006241  2.504642  0.001862  1.0  23.150423  \n"
     ]
    }
   ],
   "source": [
    "import pandas as pd\n",
    "import numpy as np\n",
    "\n",
    "transformed_df = pd.DataFrame()\n",
    "\n",
    "columns_to_keep = ['type', 'sendTime', 'sender', 'senderPseudo', 'messageID', 'class']\n",
    "transformed_df[columns_to_keep] = df[columns_to_keep]\n",
    "\n",
    "columns = [\n",
    "    ('posx', 'posy', 'posz', 'pos'), \n",
    "    ('posx_n', 'posy_n', 'posz_n', 'pos_n'), \n",
    "    ('spdx', 'spdy', 'spdz', 'spd'), \n",
    "    ('spdx_n', 'spdy_n', 'spdz_n', 'spd_n'), \n",
    "    ('aclx', 'acly', 'aclz', 'acl'), \n",
    "    ('aclx_n', 'acly_n', 'aclz_n', 'acl_n'), \n",
    "    ('hedx', 'hedy', 'hedz', 'hed'), \n",
    "    ('hedx_n', 'hedy_n', 'hedz_n', 'hed_n')\n",
    "]\n",
    "\n",
    "for col_x, col_y, col_z, new_col in columns:\n",
    "    transformed_df[new_col] = np.sqrt(df[col_x]**2 + df[col_y]**2 + df[col_z]**2)\n",
    "\n",
    "print(transformed_df.head())"
   ]
  },
  {
   "cell_type": "code",
   "execution_count": 9,
   "id": "87381be4",
   "metadata": {},
   "outputs": [
    {
     "name": "stdout",
     "output_type": "stream",
     "text": [
      "The transformed data has been saved to mixalldata_transformed_euclidean.csv\n"
     ]
    }
   ],
   "source": [
    "import pandas as pd\n",
    "\n",
    "output_file_path = 'mixalldata_transformed_euclidean.csv'\n",
    "\n",
    "transformed_df.to_csv(output_file_path, index=False)\n",
    "\n",
    "print(f\"The transformed data has been saved to {output_file_path}\")"
   ]
  },
  {
   "cell_type": "markdown",
   "id": "9685a8bf",
   "metadata": {},
   "source": [
    "<a class=\"anchor\" id=\"3-2-bullet\"><h3><b>Section 3.2</b>: Generated Data Testing (Method 1 - Euclidean Distance)</h3></a> \n",
    "<br>\n",
    "[Back to Menu](#toc)"
   ]
  },
  {
   "cell_type": "code",
   "execution_count": 10,
   "id": "99a4fe6d",
   "metadata": {},
   "outputs": [
    {
     "name": "stdout",
     "output_type": "stream",
     "text": [
      "The transformed dataframe has 3194808 rows.\n"
     ]
    }
   ],
   "source": [
    "num_rows = transformed_df.shape[0]\n",
    "\n",
    "print(f\"The transformed dataframe has {num_rows} rows.\")"
   ]
  },
  {
   "cell_type": "code",
   "execution_count": 4,
   "id": "7fb0e4d7",
   "metadata": {},
   "outputs": [
    {
     "name": "stdout",
     "output_type": "stream",
     "text": [
      "          type  sendTime  sender  senderPseudo  messageID  class   posx  \\\n",
      "0        False     False   False         False      False  False  False   \n",
      "1        False     False   False         False      False  False  False   \n",
      "2        False     False   False         False      False  False  False   \n",
      "3        False     False   False         False      False  False  False   \n",
      "4        False     False   False         False      False  False  False   \n",
      "...        ...       ...     ...           ...        ...    ...    ...   \n",
      "3194803  False     False   False         False      False  False  False   \n",
      "3194804  False     False   False         False      False  False  False   \n",
      "3194805  False     False   False         False      False  False  False   \n",
      "3194806  False     False   False         False      False  False  False   \n",
      "3194807  False     False   False         False      False  False  False   \n",
      "\n",
      "          posy   posz  posx_n  ...   aclz  aclx_n  acly_n  aclz_n   hedx  \\\n",
      "0        False  False   False  ...  False   False   False   False  False   \n",
      "1        False  False   False  ...  False   False   False   False  False   \n",
      "2        False  False   False  ...  False   False   False   False  False   \n",
      "3        False  False   False  ...  False   False   False   False  False   \n",
      "4        False  False   False  ...  False   False   False   False  False   \n",
      "...        ...    ...     ...  ...    ...     ...     ...     ...    ...   \n",
      "3194803  False  False   False  ...  False   False   False   False  False   \n",
      "3194804  False  False   False  ...  False   False   False   False  False   \n",
      "3194805  False  False   False  ...  False   False   False   False  False   \n",
      "3194806  False  False   False  ...  False   False   False   False  False   \n",
      "3194807  False  False   False  ...  False   False   False   False  False   \n",
      "\n",
      "          hedy   hedz  hedx_n  hedy_n  hedz_n  \n",
      "0        False  False   False   False   False  \n",
      "1        False  False   False   False   False  \n",
      "2        False  False   False   False   False  \n",
      "3        False  False   False   False   False  \n",
      "4        False  False   False   False   False  \n",
      "...        ...    ...     ...     ...     ...  \n",
      "3194803  False  False   False   False   False  \n",
      "3194804  False  False   False   False   False  \n",
      "3194805  False  False   False   False   False  \n",
      "3194806  False  False   False   False   False  \n",
      "3194807  False  False   False   False   False  \n",
      "\n",
      "[3194808 rows x 30 columns]\n"
     ]
    }
   ],
   "source": [
    "null_df = df.isnull()\n",
    "print(null_df)"
   ]
  },
  {
   "cell_type": "code",
   "execution_count": 5,
   "id": "b114a70f",
   "metadata": {},
   "outputs": [
    {
     "name": "stdout",
     "output_type": "stream",
     "text": [
      "type            0\n",
      "sendTime        0\n",
      "sender          0\n",
      "senderPseudo    0\n",
      "messageID       0\n",
      "class           0\n",
      "posx            0\n",
      "posy            0\n",
      "posz            0\n",
      "posx_n          0\n",
      "posy_n          0\n",
      "posz_n          0\n",
      "spdx            0\n",
      "spdy            0\n",
      "spdz            0\n",
      "spdx_n          0\n",
      "spdy_n          0\n",
      "spdz_n          0\n",
      "aclx            0\n",
      "acly            0\n",
      "aclz            0\n",
      "aclx_n          0\n",
      "acly_n          0\n",
      "aclz_n          0\n",
      "hedx            0\n",
      "hedy            0\n",
      "hedz            0\n",
      "hedx_n          0\n",
      "hedy_n          0\n",
      "hedz_n          0\n",
      "dtype: int64\n"
     ]
    }
   ],
   "source": [
    "null_counts = df.isnull().sum()\n",
    "print(null_counts)"
   ]
  },
  {
   "cell_type": "code",
   "execution_count": 6,
   "id": "3fe022b8",
   "metadata": {},
   "outputs": [
    {
     "name": "stdout",
     "output_type": "stream",
     "text": [
      "Total Records Duplications: 0\n"
     ]
    }
   ],
   "source": [
    "duplicate_record = df.duplicated().sum()\n",
    "\n",
    "print(\"Total Records Duplications: \" + str(duplicate_record))"
   ]
  },
  {
   "cell_type": "code",
   "execution_count": 7,
   "id": "e97cfe7e",
   "metadata": {},
   "outputs": [
    {
     "name": "stdout",
     "output_type": "stream",
     "text": [
      "Duplicated messageID Rows: 0\n"
     ]
    }
   ],
   "source": [
    "duplicate_rows = df.duplicated(subset=['messageID']).sum()\n",
    "\n",
    "print(\"Duplicated messageID Rows: \" + str(duplicate_rows))"
   ]
  },
  {
   "cell_type": "code",
   "execution_count": null,
   "id": "1230cb29",
   "metadata": {},
   "outputs": [],
   "source": []
  }
 ],
 "metadata": {
  "kernelspec": {
   "display_name": "Python 3 (ipykernel)",
   "language": "python",
   "name": "python3"
  },
  "language_info": {
   "codemirror_mode": {
    "name": "ipython",
    "version": 3
   },
   "file_extension": ".py",
   "mimetype": "text/x-python",
   "name": "python",
   "nbconvert_exporter": "python",
   "pygments_lexer": "ipython3",
   "version": "3.9.13"
  }
 },
 "nbformat": 4,
 "nbformat_minor": 5
}
