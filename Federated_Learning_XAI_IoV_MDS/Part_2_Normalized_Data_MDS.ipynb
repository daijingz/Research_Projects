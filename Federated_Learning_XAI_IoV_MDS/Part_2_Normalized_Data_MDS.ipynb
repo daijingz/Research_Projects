{
 "cells": [
  {
   "cell_type": "markdown",
   "id": "47d26ce3",
   "metadata": {},
   "source": [
    "# IoV FL-based Misbehavior Detection Part 2 - Normalized Data MDS"
   ]
  },
  {
   "cell_type": "markdown",
   "id": "ea04e859",
   "metadata": {},
   "source": [
    "<b>Author</b>: Jingze Dai, McMaster University\n",
    "<br>\n",
    "<b>Research Supervisor</b>: Dr.Jiaqi Huang, University of Central Missouri\n",
    "<br>\n",
    "<b>Key Topics</b>: Federated Learning, Explainable AI"
   ]
  },
  {
   "cell_type": "markdown",
   "id": "e3feeb6d",
   "metadata": {},
   "source": [
    "<a name=\"toc\"></a>\n",
    "## Table of Contents\n",
    "* [Section 1: Summary of Section Structures](#1-bullet)\n",
    "* [Section 2: Environment Setup](#2-bullet)\n",
    "* [Section 3: Data Transformation Rules and Steps](#3-bullet)\n",
    "* [Section 4: Generating the final dataset](#4-bullet)"
   ]
  },
  {
   "cell_type": "code",
   "execution_count": null,
   "id": "5bc4b62e",
   "metadata": {},
   "outputs": [],
   "source": []
  }
 ],
 "metadata": {
  "kernelspec": {
   "display_name": "Python 3 (ipykernel)",
   "language": "python",
   "name": "python3"
  },
  "language_info": {
   "codemirror_mode": {
    "name": "ipython",
    "version": 3
   },
   "file_extension": ".py",
   "mimetype": "text/x-python",
   "name": "python",
   "nbconvert_exporter": "python",
   "pygments_lexer": "ipython3",
   "version": "3.9.13"
  }
 },
 "nbformat": 4,
 "nbformat_minor": 5
}
