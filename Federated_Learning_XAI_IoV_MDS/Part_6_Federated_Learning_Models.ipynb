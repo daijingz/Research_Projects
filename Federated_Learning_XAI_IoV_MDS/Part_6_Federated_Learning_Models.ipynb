{
 "cells": [
  {
   "cell_type": "code",
   "execution_count": 5,
   "id": "c1131b5b",
   "metadata": {},
   "outputs": [
    {
     "name": "stdout",
     "output_type": "stream",
     "text": [
      "Column names in the df1 dataset:\n",
      "Index(['type', 'sendTime', 'sender', 'senderPseudo', 'messageID', 'class',\n",
      "       'posx', 'posy', 'posz', 'posx_n', 'posy_n', 'posz_n', 'spdx', 'spdy',\n",
      "       'spdz', 'spdx_n', 'spdy_n', 'spdz_n', 'aclx', 'acly', 'aclz', 'aclx_n',\n",
      "       'acly_n', 'aclz_n', 'hedx', 'hedy', 'hedz', 'hedx_n', 'hedy_n',\n",
      "       'hedz_n'],\n",
      "      dtype='object')\n",
      "\n",
      "Column names in the df2 dataset:\n",
      "Index(['type', 'sendTime', 'sender', 'senderPseudo', 'messageID', 'class',\n",
      "       'posx', 'posy', 'posz', 'posx_n', 'posy_n', 'posz_n', 'spdx', 'spdy',\n",
      "       'spdz', 'spdx_n', 'spdy_n', 'spdz_n', 'aclx', 'acly', 'aclz', 'aclx_n',\n",
      "       'acly_n', 'aclz_n', 'hedx', 'hedy', 'hedz', 'hedx_n', 'hedy_n',\n",
      "       'hedz_n'],\n",
      "      dtype='object')\n",
      "\n",
      "Column names in the df3 dataset:\n",
      "Index(['type', 'sendTime', 'sender', 'senderPseudo', 'messageID', 'class',\n",
      "       'posx', 'posy', 'posz', 'posx_n', 'posy_n', 'posz_n', 'spdx', 'spdy',\n",
      "       'spdz', 'spdx_n', 'spdy_n', 'spdz_n', 'aclx', 'acly', 'aclz', 'aclx_n',\n",
      "       'acly_n', 'aclz_n', 'hedx', 'hedy', 'hedz', 'hedx_n', 'hedy_n',\n",
      "       'hedz_n'],\n",
      "      dtype='object')\n",
      "\n",
      "Column names in the df4 dataset:\n",
      "Index(['type', 'sendTime', 'sender', 'senderPseudo', 'messageID', 'class',\n",
      "       'posx', 'posy', 'posz', 'posx_n', 'posy_n', 'posz_n', 'spdx', 'spdy',\n",
      "       'spdz', 'spdx_n', 'spdy_n', 'spdz_n', 'aclx', 'acly', 'aclz', 'aclx_n',\n",
      "       'acly_n', 'aclz_n', 'hedx', 'hedy', 'hedz', 'hedx_n', 'hedy_n',\n",
      "       'hedz_n'],\n",
      "      dtype='object')\n",
      "\n",
      "Column names in the df5 dataset:\n",
      "Index(['type', 'sendTime', 'sender', 'senderPseudo', 'messageID', 'class',\n",
      "       'posx', 'posy', 'posz', 'posx_n', 'posy_n', 'posz_n', 'spdx', 'spdy',\n",
      "       'spdz', 'spdx_n', 'spdy_n', 'spdz_n', 'aclx', 'acly', 'aclz', 'aclx_n',\n",
      "       'acly_n', 'aclz_n', 'hedx', 'hedy', 'hedz', 'hedx_n', 'hedy_n',\n",
      "       'hedz_n'],\n",
      "      dtype='object')\n"
     ]
    }
   ],
   "source": [
    "import pandas as pd\n",
    "\n",
    "file_path_1 = 'FL_random//client_1_data_random.csv'\n",
    "df1 = pd.read_csv(file_path_1)\n",
    "\n",
    "file_path_2 = 'FL_random//client_2_data_random.csv'\n",
    "df2 = pd.read_csv(file_path_2)\n",
    "\n",
    "file_path_3 = 'FL_random//client_3_data_random.csv'\n",
    "df3 = pd.read_csv(file_path_3)\n",
    "\n",
    "file_path_4 = 'FL_random//client_4_data_random.csv'\n",
    "df4 = pd.read_csv(file_path_4)\n",
    "\n",
    "file_path_5 = 'FL_random//client_5_data_random.csv'\n",
    "df5 = pd.read_csv(file_path_5)\n",
    "\n",
    "print(\"Column names in the df1 dataset:\")\n",
    "print(df1.columns)\n",
    "print()\n",
    "print(\"Column names in the df2 dataset:\")\n",
    "print(df2.columns)\n",
    "print()\n",
    "print(\"Column names in the df3 dataset:\")\n",
    "print(df3.columns)\n",
    "print()\n",
    "print(\"Column names in the df4 dataset:\")\n",
    "print(df4.columns)\n",
    "print()\n",
    "print(\"Column names in the df5 dataset:\")\n",
    "print(df5.columns)"
   ]
  },
  {
   "cell_type": "code",
   "execution_count": 7,
   "id": "784a1107",
   "metadata": {},
   "outputs": [
    {
     "name": "stdout",
     "output_type": "stream",
     "text": [
      "Random Forest Accuracy: 0.8984294914431933\n",
      "Random Forest Precision: 0.9006667771059389\n",
      "Random Forest Recall: 0.8416540887805256\n",
      "Random Forest F1-score: 0.8701610483144944\n"
     ]
    },
    {
     "data": {
      "text/plain": [
       "['rf_model_p1.pkl']"
      ]
     },
     "execution_count": 7,
     "metadata": {},
     "output_type": "execute_result"
    }
   ],
   "source": [
    "from sklearn.metrics import precision_score, recall_score, f1_score\n",
    "import pandas as pd\n",
    "from sklearn.model_selection import train_test_split\n",
    "from sklearn.ensemble import RandomForestClassifier\n",
    "from sklearn.metrics import accuracy_score\n",
    "import joblib\n",
    "\n",
    "features = ['posx', 'posy', 'spdx', 'spdy', 'spdx_n', 'spdy_n', 'aclx', 'acly', 'hedx', 'hedy', 'hedx_n', 'hedy_n']\n",
    "X = df1[features]\n",
    "Y = (df1['class'] != 0).astype(int)\n",
    "\n",
    "X_train, X_test, Y_train, Y_test = train_test_split(X, Y, test_size=0.2, random_state=42)\n",
    "\n",
    "rf = RandomForestClassifier(n_estimators=20, random_state=42)\n",
    "\n",
    "rf.fit(X_train, Y_train)\n",
    "\n",
    "Y_pred = rf.predict(X_test)\n",
    "\n",
    "accuracy = accuracy_score(Y_test, Y_pred)\n",
    "precision = precision_score(Y_test, Y_pred)\n",
    "recall = recall_score(Y_test, Y_pred)\n",
    "f1 = f1_score(Y_test, Y_pred)\n",
    "\n",
    "print(\"Random Forest Accuracy:\", accuracy)\n",
    "print(\"Random Forest Precision:\", precision)\n",
    "print(\"Random Forest Recall:\", recall)\n",
    "print(\"Random Forest F1-score:\", f1)\n",
    "\n",
    "joblib.dump(rf, 'FL_random//rf_model_p1.pkl')"
   ]
  },
  {
   "cell_type": "code",
   "execution_count": 8,
   "id": "6fffc80e",
   "metadata": {},
   "outputs": [
    {
     "name": "stdout",
     "output_type": "stream",
     "text": [
      "Random Forest Accuracy: 0.897560899266783\n",
      "Random Forest Precision: 0.899660351106928\n",
      "Random Forest Recall: 0.8430316160822133\n",
      "Random Forest F1-score: 0.8704259088794528\n"
     ]
    },
    {
     "data": {
      "text/plain": [
       "['FL_random//rf_model_p2.pkl']"
      ]
     },
     "execution_count": 8,
     "metadata": {},
     "output_type": "execute_result"
    }
   ],
   "source": [
    "from sklearn.metrics import precision_score, recall_score, f1_score\n",
    "import pandas as pd\n",
    "from sklearn.model_selection import train_test_split\n",
    "from sklearn.ensemble import RandomForestClassifier\n",
    "from sklearn.metrics import accuracy_score\n",
    "import joblib\n",
    "\n",
    "features = ['posx', 'posy', 'spdx', 'spdy', 'spdx_n', 'spdy_n', 'aclx', 'acly', 'hedx', 'hedy', 'hedx_n', 'hedy_n']\n",
    "X = df2[features]\n",
    "Y = (df2['class'] != 0).astype(int)\n",
    "\n",
    "X_train, X_test, Y_train, Y_test = train_test_split(X, Y, test_size=0.2, random_state=42)\n",
    "\n",
    "rf = RandomForestClassifier(n_estimators=20, random_state=42)\n",
    "\n",
    "rf.fit(X_train, Y_train)\n",
    "\n",
    "Y_pred = rf.predict(X_test)\n",
    "\n",
    "accuracy = accuracy_score(Y_test, Y_pred)\n",
    "precision = precision_score(Y_test, Y_pred)\n",
    "recall = recall_score(Y_test, Y_pred)\n",
    "f1 = f1_score(Y_test, Y_pred)\n",
    "\n",
    "print(\"Random Forest Accuracy:\", accuracy)\n",
    "print(\"Random Forest Precision:\", precision)\n",
    "print(\"Random Forest Recall:\", recall)\n",
    "print(\"Random Forest F1-score:\", f1)\n",
    "\n",
    "joblib.dump(rf, 'FL_random//rf_model_p2.pkl')"
   ]
  },
  {
   "cell_type": "code",
   "execution_count": 9,
   "id": "531e2e5f",
   "metadata": {},
   "outputs": [
    {
     "name": "stdout",
     "output_type": "stream",
     "text": [
      "Random Forest Accuracy: 0.9012934980789246\n",
      "Random Forest Precision: 0.9048081894323234\n",
      "Random Forest Recall: 0.845236945308425\n",
      "Random Forest F1-score: 0.8740086697696718\n"
     ]
    },
    {
     "data": {
      "text/plain": [
       "['FL_random//rf_model_p3.pkl']"
      ]
     },
     "execution_count": 9,
     "metadata": {},
     "output_type": "execute_result"
    }
   ],
   "source": [
    "from sklearn.metrics import precision_score, recall_score, f1_score\n",
    "import pandas as pd\n",
    "from sklearn.model_selection import train_test_split\n",
    "from sklearn.ensemble import RandomForestClassifier\n",
    "from sklearn.metrics import accuracy_score\n",
    "import joblib\n",
    "\n",
    "features = ['posx', 'posy', 'spdx', 'spdy', 'spdx_n', 'spdy_n', 'aclx', 'acly', 'hedx', 'hedy', 'hedx_n', 'hedy_n']\n",
    "X = df3[features]\n",
    "Y = (df3['class'] != 0).astype(int)\n",
    "\n",
    "X_train, X_test, Y_train, Y_test = train_test_split(X, Y, test_size=0.2, random_state=42)\n",
    "\n",
    "rf = RandomForestClassifier(n_estimators=20, random_state=42)\n",
    "\n",
    "rf.fit(X_train, Y_train)\n",
    "\n",
    "Y_pred = rf.predict(X_test)\n",
    "\n",
    "accuracy = accuracy_score(Y_test, Y_pred)\n",
    "precision = precision_score(Y_test, Y_pred)\n",
    "recall = recall_score(Y_test, Y_pred)\n",
    "f1 = f1_score(Y_test, Y_pred)\n",
    "\n",
    "print(\"Random Forest Accuracy:\", accuracy)\n",
    "print(\"Random Forest Precision:\", precision)\n",
    "print(\"Random Forest Recall:\", recall)\n",
    "print(\"Random Forest F1-score:\", f1)\n",
    "\n",
    "joblib.dump(rf, 'FL_random//rf_model_p3.pkl')"
   ]
  },
  {
   "cell_type": "code",
   "execution_count": 10,
   "id": "e418c757",
   "metadata": {},
   "outputs": [
    {
     "name": "stdout",
     "output_type": "stream",
     "text": [
      "Random Forest Accuracy: 0.8975295986478132\n",
      "Random Forest Precision: 0.8982013567620273\n",
      "Random Forest Recall: 0.8409602983451169\n",
      "Random Forest F1-score: 0.8686388395678473\n"
     ]
    },
    {
     "data": {
      "text/plain": [
       "['FL_random//rf_model_p4.pkl']"
      ]
     },
     "execution_count": 10,
     "metadata": {},
     "output_type": "execute_result"
    }
   ],
   "source": [
    "from sklearn.metrics import precision_score, recall_score, f1_score\n",
    "import pandas as pd\n",
    "from sklearn.model_selection import train_test_split\n",
    "from sklearn.ensemble import RandomForestClassifier\n",
    "from sklearn.metrics import accuracy_score\n",
    "import joblib\n",
    "\n",
    "features = ['posx', 'posy', 'spdx', 'spdy', 'spdx_n', 'spdy_n', 'aclx', 'acly', 'hedx', 'hedy', 'hedx_n', 'hedy_n']\n",
    "X = df4[features]\n",
    "Y = (df4['class'] != 0).astype(int)\n",
    "\n",
    "X_train, X_test, Y_train, Y_test = train_test_split(X, Y, test_size=0.2, random_state=42)\n",
    "\n",
    "rf = RandomForestClassifier(n_estimators=20, random_state=42)\n",
    "\n",
    "rf.fit(X_train, Y_train)\n",
    "\n",
    "Y_pred = rf.predict(X_test)\n",
    "\n",
    "accuracy = accuracy_score(Y_test, Y_pred)\n",
    "precision = precision_score(Y_test, Y_pred)\n",
    "recall = recall_score(Y_test, Y_pred)\n",
    "f1 = f1_score(Y_test, Y_pred)\n",
    "\n",
    "print(\"Random Forest Accuracy:\", accuracy)\n",
    "print(\"Random Forest Precision:\", precision)\n",
    "print(\"Random Forest Recall:\", recall)\n",
    "print(\"Random Forest F1-score:\", f1)\n",
    "\n",
    "joblib.dump(rf, 'FL_random//rf_model_p4.pkl')"
   ]
  },
  {
   "cell_type": "code",
   "execution_count": 11,
   "id": "a3e0ddf4",
   "metadata": {},
   "outputs": [
    {
     "name": "stdout",
     "output_type": "stream",
     "text": [
      "Random Forest Accuracy: 0.8936013709671109\n",
      "Random Forest Precision: 0.8964954333181799\n",
      "Random Forest Recall: 0.8347603563388682\n",
      "Random Forest F1-score: 0.8645271852302051\n"
     ]
    },
    {
     "data": {
      "text/plain": [
       "['FL_random//rf_model_p5.pkl']"
      ]
     },
     "execution_count": 11,
     "metadata": {},
     "output_type": "execute_result"
    }
   ],
   "source": [
    "from sklearn.metrics import precision_score, recall_score, f1_score\n",
    "import pandas as pd\n",
    "from sklearn.model_selection import train_test_split\n",
    "from sklearn.ensemble import RandomForestClassifier\n",
    "from sklearn.metrics import accuracy_score\n",
    "import joblib\n",
    "\n",
    "features = ['posx', 'posy', 'spdx', 'spdy', 'spdx_n', 'spdy_n', 'aclx', 'acly', 'hedx', 'hedy', 'hedx_n', 'hedy_n']\n",
    "X = df5[features]\n",
    "Y = (df5['class'] != 0).astype(int)\n",
    "\n",
    "X_train, X_test, Y_train, Y_test = train_test_split(X, Y, test_size=0.2, random_state=42)\n",
    "\n",
    "rf = RandomForestClassifier(n_estimators=20, random_state=42)\n",
    "\n",
    "rf.fit(X_train, Y_train)\n",
    "\n",
    "Y_pred = rf.predict(X_test)\n",
    "\n",
    "accuracy = accuracy_score(Y_test, Y_pred)\n",
    "precision = precision_score(Y_test, Y_pred)\n",
    "recall = recall_score(Y_test, Y_pred)\n",
    "f1 = f1_score(Y_test, Y_pred)\n",
    "\n",
    "print(\"Random Forest Accuracy:\", accuracy)\n",
    "print(\"Random Forest Precision:\", precision)\n",
    "print(\"Random Forest Recall:\", recall)\n",
    "print(\"Random Forest F1-score:\", f1)\n",
    "\n",
    "joblib.dump(rf, 'FL_random//rf_model_p5.pkl')"
   ]
  },
  {
   "cell_type": "code",
   "execution_count": 12,
   "id": "faafd973",
   "metadata": {},
   "outputs": [
    {
     "name": "stdout",
     "output_type": "stream",
     "text": [
      "Federated Model Accuracy: 0.8211091374331927\n",
      "Federated Model Precision: 0.9916570965344863\n",
      "Federated Model Recall: 0.5648894618359532\n",
      "Federated Model F1-score: 0.7197685678912464\n"
     ]
    }
   ],
   "source": [
    "import joblib\n",
    "import numpy as np\n",
    "from sklearn.metrics import accuracy_score, precision_score, recall_score, f1_score\n",
    "\n",
    "models = [joblib.load(f'FL_random/rf_model_p{i}.pkl') for i in range(1, 6)]\n",
    "\n",
    "predictions = np.zeros((len(models), len(X_test)))\n",
    "\n",
    "for i, model in enumerate(models):\n",
    "    predictions[i] = model.predict(X_test)\n",
    "    \n",
    "majority_voting_pred = np.round(np.mean(predictions, axis=0)).astype(int)\n",
    "\n",
    "accuracy = accuracy_score(Y_test, majority_voting_pred)\n",
    "precision = precision_score(Y_test, majority_voting_pred, zero_division=1)\n",
    "recall = recall_score(Y_test, majority_voting_pred)\n",
    "f1 = f1_score(Y_test, majority_voting_pred)\n",
    "\n",
    "print(\"Federated Model Accuracy:\", accuracy)\n",
    "print(\"Federated Model Precision:\", precision)\n",
    "print(\"Federated Model Recall:\", recall)\n",
    "print(\"Federated Model F1-score:\", f1)"
   ]
  },
  {
   "cell_type": "code",
   "execution_count": null,
   "id": "b0c9f289",
   "metadata": {},
   "outputs": [],
   "source": []
  }
 ],
 "metadata": {
  "kernelspec": {
   "display_name": "Python 3 (ipykernel)",
   "language": "python",
   "name": "python3"
  },
  "language_info": {
   "codemirror_mode": {
    "name": "ipython",
    "version": 3
   },
   "file_extension": ".py",
   "mimetype": "text/x-python",
   "name": "python",
   "nbconvert_exporter": "python",
   "pygments_lexer": "ipython3",
   "version": "3.9.13"
  }
 },
 "nbformat": 4,
 "nbformat_minor": 5
}
