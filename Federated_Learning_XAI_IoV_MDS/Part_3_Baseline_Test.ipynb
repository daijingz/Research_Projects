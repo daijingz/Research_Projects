{
 "cells": [
  {
   "cell_type": "code",
   "execution_count": 1,
   "id": "ab7e38c0",
   "metadata": {},
   "outputs": [
    {
     "name": "stdout",
     "output_type": "stream",
     "text": [
      "Column names in the dataset:\n",
      "Index(['type', 'sendTime', 'sender', 'senderPseudo', 'messageID', 'class',\n",
      "       'pos', 'pos_n', 'spd', 'spd_n', 'acl', 'acl_n', 'hed', 'hed_n'],\n",
      "      dtype='object')\n"
     ]
    }
   ],
   "source": [
    "import pandas as pd\n",
    "\n",
    "file_path = 'mixalldata_transformed_euclidean.csv'\n",
    "df = pd.read_csv(file_path)\n",
    "\n",
    "print(\"Column names in the dataset:\")\n",
    "print(df.columns)"
   ]
  },
  {
   "cell_type": "code",
   "execution_count": 2,
   "id": "e04d9b16",
   "metadata": {},
   "outputs": [
    {
     "name": "stdout",
     "output_type": "stream",
     "text": [
      "   type      sendTime  sender  senderPseudo  messageID  class         pos  \\\n",
      "0     4  72002.302942  130137     101301377  422013806      0  268.933600   \n",
      "1     4  72003.302942  130137     101301377  422023410      0  269.064287   \n",
      "2     4  72004.302942  130137     101301377  422032081      0  269.236040   \n",
      "3     4  72005.302942  130137     101301377  422040712      0  272.719875   \n",
      "4     4  72006.302942  130137     101301377  422052949      0  273.570521   \n",
      "\n",
      "      pos_n       spd     spd_n       acl     acl_n  hed      hed_n  \n",
      "0  4.917271  1.212767  0.000000  2.131618  0.001219  1.0  26.631126  \n",
      "1  5.032356  3.149541  0.001046  2.110864  0.001046  1.0  25.042812  \n",
      "2  4.933492  5.078437  0.002716  1.794447  0.001670  1.0  24.027949  \n",
      "3  4.731177  7.237398  0.004379  1.821157  0.001663  1.0  23.398577  \n",
      "4  4.700795  9.328836  0.006241  2.504642  0.001862  1.0  23.150423  \n"
     ]
    }
   ],
   "source": [
    "print(df.head())"
   ]
  },
  {
   "cell_type": "code",
   "execution_count": 3,
   "id": "f4f9582c",
   "metadata": {},
   "outputs": [
    {
     "name": "stdout",
     "output_type": "stream",
     "text": [
      "Logistic Regression Accuracy: 0.7274000644795778\n",
      "Logistic Regression Precision: 0.9155241777986095\n",
      "Logistic Regression Recall: 0.3615954521437635\n",
      "Logistic Regression F1-score: 0.518431274969242\n"
     ]
    }
   ],
   "source": [
    "from sklearn.metrics import precision_score, recall_score, f1_score\n",
    "import pandas as pd\n",
    "from sklearn.model_selection import train_test_split\n",
    "from sklearn.linear_model import LogisticRegression\n",
    "from sklearn.metrics import accuracy_score\n",
    "from sklearn.preprocessing import StandardScaler\n",
    "\n",
    "features = ['sendTime', 'sender', 'senderPseudo', 'messageID', \n",
    "            'pos', 'pos_n', 'spd', 'spd_n', 'acl', 'acl_n', 'hed', 'hed_n']\n",
    "X = df[features]\n",
    "Y = (df['class'] != 0).astype(int)\n",
    "\n",
    "scaler = StandardScaler()\n",
    "X_scaled = scaler.fit_transform(X)\n",
    "\n",
    "X_train, X_test, Y_train, Y_test = train_test_split(X_scaled, Y, test_size=0.2, random_state=42)\n",
    "\n",
    "lr = LogisticRegression(random_state=42)\n",
    "\n",
    "lr.fit(X_train, Y_train)\n",
    "\n",
    "Y_pred = lr.predict(X_test)\n",
    "\n",
    "accuracy = accuracy_score(Y_test, Y_pred)\n",
    "precision = precision_score(Y_test, Y_pred)\n",
    "recall = recall_score(Y_test, Y_pred)\n",
    "f1 = f1_score(Y_test, Y_pred)\n",
    "\n",
    "print(\"Logistic Regression Accuracy:\", accuracy)\n",
    "print(\"Logistic Regression Precision:\", precision)\n",
    "print(\"Logistic Regression Recall:\", recall)\n",
    "print(\"Logistic Regression F1-score:\", f1)"
   ]
  },
  {
   "cell_type": "code",
   "execution_count": 5,
   "id": "27d7d0f7",
   "metadata": {},
   "outputs": [
    {
     "name": "stdout",
     "output_type": "stream",
     "text": [
      "KNN Accuracy when n_neighbors = 10 : 0.6871957956811203\n",
      "KNN Precision: 0.7908520407663765\n",
      "KNN Recall: 0.3115466645068978\n",
      "KNN F1-score: 0.44700218576211165\n"
     ]
    }
   ],
   "source": [
    "from sklearn.metrics import precision_score, recall_score, f1_score\n",
    "from sklearn.model_selection import train_test_split\n",
    "from sklearn.neighbors import KNeighborsClassifier\n",
    "from sklearn.metrics import accuracy_score\n",
    "import pandas as pd\n",
    "import warnings\n",
    "\n",
    "warnings.filterwarnings(\"ignore\", category=FutureWarning)\n",
    "\n",
    "features = ['sendTime', 'sender', 'senderPseudo', 'messageID', \n",
    "            'pos', 'pos_n', 'spd', 'spd_n', 'acl', 'acl_n', 'hed', 'hed_n']\n",
    "X = df[features]\n",
    "Y = (df['class'] != 0).astype(int)\n",
    "\n",
    "X_train, X_test, Y_train, Y_test = train_test_split(X, Y, test_size=0.2, random_state=42)\n",
    "\n",
    "n_neighbor_amount = 10\n",
    "\n",
    "knn = KNeighborsClassifier(n_neighbors=n_neighbor_amount)\n",
    "knn.fit(X_train, Y_train)\n",
    "Y_pred = knn.predict(X_test)\n",
    "accuracy = accuracy_score(Y_test, Y_pred)\n",
    "print(\"KNN Accuracy when n_neighbors =\", n_neighbor_amount, \":\", accuracy)\n",
    "precision = precision_score(Y_test, Y_pred)\n",
    "recall = recall_score(Y_test, Y_pred)\n",
    "f1 = f1_score(Y_test, Y_pred)\n",
    "\n",
    "print(\"KNN Precision:\", precision)\n",
    "print(\"KNN Recall:\", recall)\n",
    "print(\"KNN F1-score:\", f1)"
   ]
  },
  {
   "cell_type": "code",
   "execution_count": 8,
   "id": "ed70c8a7",
   "metadata": {},
   "outputs": [
    {
     "name": "stdout",
     "output_type": "stream",
     "text": [
      "Random Forest Accuracy: 0.9517796050469355\n",
      "Random Forest Precision: 0.9800036975722077\n",
      "Random Forest Recall: 0.8995244651679413\n",
      "Random Forest F1-score: 0.9380410673241085\n"
     ]
    }
   ],
   "source": [
    "from sklearn.metrics import precision_score, recall_score, f1_score\n",
    "import pandas as pd\n",
    "from sklearn.model_selection import train_test_split\n",
    "from sklearn.ensemble import RandomForestClassifier\n",
    "from sklearn.metrics import accuracy_score\n",
    "\n",
    "features = ['sendTime', 'sender', 'senderPseudo', 'messageID', \n",
    "            'pos', 'pos_n', 'spd', 'spd_n', 'acl', 'acl_n', 'hed', 'hed_n']\n",
    "X = df[features]\n",
    "Y = (df['class'] != 0).astype(int)\n",
    "\n",
    "X_train, X_test, Y_train, Y_test = train_test_split(X, Y, test_size=0.2, random_state=42)\n",
    "\n",
    "rf = RandomForestClassifier(n_estimators=20, random_state=42)\n",
    "\n",
    "rf.fit(X_train, Y_train)\n",
    "\n",
    "Y_pred = rf.predict(X_test)\n",
    "\n",
    "accuracy = accuracy_score(Y_test, Y_pred)\n",
    "precision = precision_score(Y_test, Y_pred)\n",
    "recall = recall_score(Y_test, Y_pred)\n",
    "f1 = f1_score(Y_test, Y_pred)\n",
    "\n",
    "print(\"Random Forest Accuracy:\", accuracy)\n",
    "print(\"Random Forest Precision:\", precision)\n",
    "print(\"Random Forest Recall:\", recall)\n",
    "print(\"Random Forest F1-score:\", f1)"
   ]
  },
  {
   "cell_type": "code",
   "execution_count": 7,
   "id": "3eb94909",
   "metadata": {},
   "outputs": [
    {
     "name": "stdout",
     "output_type": "stream",
     "text": [
      "Decision Tree Accuracy: 0.9168244746948958\n",
      "Decision Tree Precision: 0.8896159274269628\n",
      "Decision Tree Recall: 0.9079739951626072\n",
      "Decision Tree F1-score: 0.8987012194889507\n"
     ]
    }
   ],
   "source": [
    "from sklearn.metrics import precision_score, recall_score, f1_score\n",
    "import pandas as pd\n",
    "from sklearn.model_selection import train_test_split\n",
    "from sklearn.tree import DecisionTreeClassifier\n",
    "from sklearn.metrics import accuracy_score\n",
    "\n",
    "features = ['sendTime', 'sender', 'senderPseudo', 'messageID', \n",
    "            'pos', 'pos_n', 'spd', 'spd_n', 'acl', 'acl_n', 'hed', 'hed_n']\n",
    "X = df[features]\n",
    "Y = (df['class'] != 0).astype(int)\n",
    "\n",
    "X_train, X_test, Y_train, Y_test = train_test_split(X, Y, test_size=0.1, random_state=42)\n",
    "\n",
    "dt = DecisionTreeClassifier(random_state=42)\n",
    "\n",
    "dt.fit(X_train, Y_train)\n",
    "\n",
    "Y_pred = dt.predict(X_test)\n",
    "\n",
    "accuracy = accuracy_score(Y_test, Y_pred)\n",
    "precision = precision_score(Y_test, Y_pred)\n",
    "recall = recall_score(Y_test, Y_pred)\n",
    "f1 = f1_score(Y_test, Y_pred)\n",
    "\n",
    "print(\"Decision Tree Accuracy:\", accuracy)\n",
    "print(\"Decision Tree Precision:\", precision)\n",
    "print(\"Decision Tree Recall:\", recall)\n",
    "print(\"Decision Tree F1-score:\", f1)"
   ]
  },
  {
   "cell_type": "code",
   "execution_count": 10,
   "id": "632d2f77",
   "metadata": {},
   "outputs": [
    {
     "name": "stdout",
     "output_type": "stream",
     "text": [
      "Naive Bayes Accuracy: 0.657990631982722\n",
      "Naive Bayes Precision: 1.0\n",
      "Naive Bayes Recall: 0.15657673584741225\n",
      "Naive Bayes F1-score: 0.2707589232852588\n"
     ]
    }
   ],
   "source": [
    "from sklearn.metrics import precision_score, recall_score, f1_score\n",
    "import pandas as pd\n",
    "from sklearn.model_selection import train_test_split\n",
    "from sklearn.naive_bayes import GaussianNB\n",
    "from sklearn.metrics import accuracy_score\n",
    "\n",
    "features = ['sendTime', 'sender', 'senderPseudo', 'messageID', \n",
    "            'pos', 'pos_n', 'spd', 'spd_n', 'acl', 'acl_n', 'hed', 'hed_n']\n",
    "X = df[features]\n",
    "Y = (df['class'] != 0).astype(int)\n",
    "\n",
    "X_train, X_test, Y_train, Y_test = train_test_split(X, Y, test_size=0.31, random_state=42)\n",
    "\n",
    "nb = GaussianNB()\n",
    "\n",
    "nb.fit(X_train, Y_train)\n",
    "\n",
    "Y_pred = nb.predict(X_test)\n",
    "\n",
    "accuracy = accuracy_score(Y_test, Y_pred)\n",
    "precision = precision_score(Y_test, Y_pred)\n",
    "recall = recall_score(Y_test, Y_pred)\n",
    "f1 = f1_score(Y_test, Y_pred)\n",
    "\n",
    "print(\"Naive Bayes Accuracy:\", accuracy)\n",
    "print(\"Naive Bayes Precision:\", precision)\n",
    "print(\"Naive Bayes Recall:\", recall)\n",
    "print(\"Naive Bayes F1-score:\", f1)"
   ]
  },
  {
   "cell_type": "code",
   "execution_count": 11,
   "id": "0e5941c2",
   "metadata": {},
   "outputs": [
    {
     "name": "stderr",
     "output_type": "stream",
     "text": [
      "C:\\Users\\david\\anaconda3\\lib\\site-packages\\sklearn\\neural_network\\_multilayer_perceptron.py:699: UserWarning: Training interrupted by user.\n",
      "  warnings.warn(\"Training interrupted by user.\")\n"
     ]
    },
    {
     "name": "stdout",
     "output_type": "stream",
     "text": [
      "MLP Accuracy: 0.8167355805196553\n",
      "MLP Precision: 0.9458142597353735\n",
      "MLP Recall: 0.5817067573769606\n",
      "MLP F1-score: 0.7203652715059091\n"
     ]
    }
   ],
   "source": [
    "from sklearn.metrics import precision_score, recall_score, f1_score\n",
    "import pandas as pd\n",
    "from sklearn.model_selection import train_test_split\n",
    "from sklearn.neural_network import MLPClassifier\n",
    "from sklearn.metrics import accuracy_score\n",
    "from sklearn.preprocessing import StandardScaler\n",
    "\n",
    "features = ['sendTime', 'sender', 'senderPseudo', 'messageID', \n",
    "            'pos', 'pos_n', 'spd', 'spd_n', 'acl', 'acl_n', 'hed', 'hed_n']\n",
    "X = df[features]\n",
    "Y = (df['class'] != 0).astype(int)\n",
    "\n",
    "scaler = StandardScaler()\n",
    "X_scaled = scaler.fit_transform(X)\n",
    "\n",
    "X_train, X_test, Y_train, Y_test = train_test_split(X_scaled, Y, test_size=0.2, random_state=42)\n",
    "\n",
    "# Adjust max_iter and tol\n",
    "mlp = MLPClassifier(hidden_layer_sizes=(100, 50), activation='relu', solver='adam', random_state=42,\n",
    "                    max_iter=100, tol=0.001)\n",
    "\n",
    "mlp.fit(X_train, Y_train)\n",
    "\n",
    "Y_pred = mlp.predict(X_test)\n",
    "\n",
    "accuracy = accuracy_score(Y_test, Y_pred)\n",
    "precision = precision_score(Y_test, Y_pred)\n",
    "recall = recall_score(Y_test, Y_pred)\n",
    "f1 = f1_score(Y_test, Y_pred)\n",
    "\n",
    "print(\"MLP Accuracy:\", accuracy)\n",
    "print(\"MLP Precision:\", precision)\n",
    "print(\"MLP Recall:\", recall)\n",
    "print(\"MLP F1-score:\", f1)"
   ]
  },
  {
   "cell_type": "code",
   "execution_count": null,
   "id": "6f8bf835",
   "metadata": {},
   "outputs": [],
   "source": []
  },
  {
   "cell_type": "code",
   "execution_count": null,
   "id": "8c8cadad",
   "metadata": {},
   "outputs": [
    {
     "name": "stdout",
     "output_type": "stream",
     "text": [
      "Epoch 1/10\n",
      "\u001b[1m63897/63897\u001b[0m \u001b[32m━━━━━━━━━━━━━━━━━━━━\u001b[0m\u001b[37m\u001b[0m \u001b[1m188s\u001b[0m 3ms/step - accuracy: 0.6678 - loss: 0.6126 - val_accuracy: 0.4947 - val_loss: 1.5087\n",
      "Epoch 2/10\n",
      "\u001b[1m63897/63897\u001b[0m \u001b[32m━━━━━━━━━━━━━━━━━━━━\u001b[0m\u001b[37m\u001b[0m \u001b[1m222s\u001b[0m 3ms/step - accuracy: 0.6852 - loss: 0.5942 - val_accuracy: 0.4944 - val_loss: 1.6373\n",
      "Epoch 3/10\n",
      "\u001b[1m51698/63897\u001b[0m \u001b[32m━━━━━━━━━━━━━━━━\u001b[0m\u001b[37m━━━━\u001b[0m \u001b[1m34s\u001b[0m 3ms/step - accuracy: 0.6869 - loss: 0.5924"
     ]
    }
   ],
   "source": [
    "import pandas as pd\n",
    "import numpy as np\n",
    "from sklearn.model_selection import train_test_split\n",
    "from sklearn.metrics import accuracy_score, precision_score, recall_score, f1_score\n",
    "import tensorflow as tf \n",
    "from tensorflow.keras.models import Sequential\n",
    "from tensorflow.keras.layers import Dense, Dropout, BatchNormalization, Input\n",
    "from tensorflow.keras.callbacks import EarlyStopping\n",
    "from tensorflow.keras.optimizers import Adam\n",
    "\n",
    "features = ['sendTime', 'sender', 'senderPseudo', 'messageID', \n",
    "            'pos', 'pos_n', 'spd', 'spd_n', 'acl', 'acl_n', 'hed', 'hed_n']\n",
    "X = df[features]\n",
    "Y = (df['class'] != 0).astype(int)\n",
    "\n",
    "X_train, X_test, Y_train, Y_test = train_test_split(X, Y, test_size=0.2, random_state=42)\n",
    "\n",
    "model = Sequential([\n",
    "    Input(shape=(len(features),)),\n",
    "    Dense(128, activation='relu'),\n",
    "    BatchNormalization(),\n",
    "    Dropout(0.3),\n",
    "    \n",
    "    Dense(128, activation='relu'),\n",
    "    BatchNormalization(),\n",
    "    Dropout(0.3),\n",
    "    \n",
    "    Dense(64, activation='relu'),\n",
    "    BatchNormalization(),\n",
    "    Dropout(0.3),\n",
    "    \n",
    "    Dense(32, activation='relu'),\n",
    "    BatchNormalization(),\n",
    "    Dropout(0.3),\n",
    "    \n",
    "    Dense(1, activation='sigmoid')\n",
    "])\n",
    "\n",
    "model.compile(optimizer='adam', loss='binary_crossentropy', metrics=['accuracy'])\n",
    "\n",
    "early_stopping = EarlyStopping(monitor='val_loss', patience=10, restore_best_weights=True)\n",
    "\n",
    "model.fit(X_train, Y_train, epochs=10, batch_size=32, validation_split=0.2)\n",
    "\n",
    "Y_pred_prob = model.predict(X_test)\n",
    "Y_pred = (Y_pred_prob > 0.5).astype(int)\n",
    "\n",
    "loss, accuracy = model.evaluate(X_test, Y_test)\n",
    "\n",
    "Y_test = np.squeeze(Y_test)\n",
    "Y_pred = np.squeeze(Y_pred)\n",
    "\n",
    "precision = precision_score(Y_test, Y_pred)\n",
    "recall = recall_score(Y_test, Y_pred)\n",
    "f1 = f1_score(Y_test, Y_pred)\n",
    "\n",
    "print(\"ANN Accuracy:\", accuracy)\n",
    "print(\"ANN Precision:\", precision)\n",
    "print(\"ANN Recall:\", recall)\n",
    "print(\"ANN F1-score:\", f1)"
   ]
  },
  {
   "cell_type": "code",
   "execution_count": null,
   "id": "b42c7118",
   "metadata": {},
   "outputs": [],
   "source": []
  }
 ],
 "metadata": {
  "kernelspec": {
   "display_name": "Python 3 (ipykernel)",
   "language": "python",
   "name": "python3"
  },
  "language_info": {
   "codemirror_mode": {
    "name": "ipython",
    "version": 3
   },
   "file_extension": ".py",
   "mimetype": "text/x-python",
   "name": "python",
   "nbconvert_exporter": "python",
   "pygments_lexer": "ipython3",
   "version": "3.9.13"
  }
 },
 "nbformat": 4,
 "nbformat_minor": 5
}
