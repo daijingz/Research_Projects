{
 "cells": [
  {
   "cell_type": "markdown",
   "id": "1b778de0",
   "metadata": {},
   "source": [
    "# IoV FL-based Misbehavior Detection Part 1 - Data Analysis"
   ]
  },
  {
   "cell_type": "markdown",
   "id": "8dc52b37",
   "metadata": {},
   "source": [
    "<b>Author</b>: Jingze Dai, McMaster University\n",
    "<br>\n",
    "<b>Research Supervisor</b>: Dr.Jiaqi Huang, University of Central Missouri\n",
    "<br>\n",
    "<b>Key Topics</b>: Federated Learning, Explainable AI"
   ]
  },
  {
   "cell_type": "markdown",
   "id": "2b778358",
   "metadata": {},
   "source": [
    "<a name=\"toc\"></a>\n",
    "## Table of Contents\n",
    "* [Section 1: Summary of Section Structures](#1-bullet)\n",
    "* [Section 2: Environment Setup](#2-bullet)\n",
    "* [Section 3: Data Cleaning](#3-bullet)\n",
    "* [Section 4: Analysis - Message Identity Attributes](#4-bullet)\n",
    "* [Section 5: Analysis - Position Attributes](#5-bullet)\n",
    "* [Section 6: Analysis - Speed Attributes](#6-bullet)\n",
    "* [Section 7: Analysis - Acceleration Attributes](#7-bullet)\n",
    "* [Section 8: Analysis - Heading Position Attributes](#8-bullet)"
   ]
  },
  {
   "cell_type": "markdown",
   "id": "7319a081",
   "metadata": {},
   "source": [
    "<a class=\"anchor\" id=\"1-bullet\"><h3><b>Section 1</b>: Summary of Section Structures</h3></a> \n",
    "<br>\n",
    "[Back to Menu](#toc)"
   ]
  },
  {
   "cell_type": "markdown",
   "id": "378eb035",
   "metadata": {},
   "source": [
    "<b>Section 1</b>: Summary of Section Structures\n",
    "<ul>\n",
    "  <li><b>This Section</b></li>\n",
    "  <li>Introduces each section's main contents, for a better understanding of readers.</li>\n",
    "</ul>\n",
    "\n",
    "<b>Section 2</b>: Environment Setup\n",
    "<ul>\n",
    "  <li>Builds necessary enviroments and installs required tools.</li>\n",
    "  <li>Load and access datasets.</li>\n",
    "</ul>\n",
    "\n",
    "<b>Section 3</b>: Data Cleaning\n",
    "<ul>\n",
    "  <li>Remove wrong and dirty data, and fix some data problem.</li>\n",
    "</ul>\n",
    "\n",
    "<b>Section 4</b>: Analysis - Message Identity Attributes\n",
    "<ul>\n",
    "  <li>Analysis on message identity attributes - 'type', 'sendTime', 'sender', 'senderPseudo', and 'messageID'.</li>\n",
    "</ul>\n",
    "\n",
    "<b>Section 5</b>: Analysis - Position Attributes\n",
    "<ul>\n",
    "  <li>Analysis on position attributes - 'posx', 'posy', 'posz', 'posx_n', 'posy_n', and 'posz_n'.</li>\n",
    "</ul>\n",
    "\n",
    "<b>Section 6</b>: Analysis - Speed Attributes\n",
    "<ul>\n",
    "  <li>Analysis on speed attributes - 'spdx', 'spdy', 'spdz', 'spdx_n', 'spdy_n', and 'spdz_n'.</li>\n",
    "</ul>\n",
    "\n",
    "<b>Section 7</b>: Analysis - Acceleration Attributes\n",
    "<ul>\n",
    "  <li>Analysis on message identity attributes - 'aclx', 'acly', 'aclz', 'aclx_n', 'acly_n', and 'aclz_n'.</li>\n",
    "</ul>\n",
    "\n",
    "<b>Section 8</b>: Analysis - Heading Position Attributes\n",
    "<ul>\n",
    "  <li>Analysis on heading position attributes - 'hedx', 'hedy', 'hedz', 'hedx_n', 'hedy_n', and 'hedz_n'.</li>\n",
    "</ul>"
   ]
  },
  {
   "cell_type": "markdown",
   "id": "2f3fbc1f",
   "metadata": {},
   "source": [
    "<a class=\"anchor\" id=\"2-bullet\"><h3><b>Section 2</b>: Environment Setup</h3></a> \n",
    "<br>\n",
    "[Back to Menu](#toc)"
   ]
  },
  {
   "cell_type": "code",
   "execution_count": 4,
   "id": "307dd106",
   "metadata": {},
   "outputs": [
    {
     "name": "stdout",
     "output_type": "stream",
     "text": [
      "Column names in the dataset:\n",
      "Index(['type', 'sendTime', 'sender', 'senderPseudo', 'messageID', 'class',\n",
      "       'posx', 'posy', 'posz', 'posx_n', 'posy_n', 'posz_n', 'spdx', 'spdy',\n",
      "       'spdz', 'spdx_n', 'spdy_n', 'spdz_n', 'aclx', 'acly', 'aclz', 'aclx_n',\n",
      "       'acly_n', 'aclz_n', 'hedx', 'hedy', 'hedz', 'hedx_n', 'hedy_n',\n",
      "       'hedz_n'],\n",
      "      dtype='object')\n"
     ]
    }
   ],
   "source": [
    "import pandas as pd\n",
    "\n",
    "file_path = 'mixalldata_clean.csv'\n",
    "df = pd.read_csv(file_path, nrows=1)\n",
    "\n",
    "print(\"Column names in the dataset:\")\n",
    "print(df.columns)"
   ]
  },
  {
   "cell_type": "code",
   "execution_count": null,
   "id": "2df20583",
   "metadata": {},
   "outputs": [],
   "source": []
  },
  {
   "cell_type": "markdown",
   "id": "166284f4",
   "metadata": {},
   "source": [
    "<a class=\"anchor\" id=\"3-bullet\"><h3><b>Section 3</b>: Data Cleaning</h3></a> \n",
    "<br>\n",
    "[Back to Menu](#toc)"
   ]
  },
  {
   "cell_type": "code",
   "execution_count": null,
   "id": "b0694ea6",
   "metadata": {},
   "outputs": [],
   "source": []
  },
  {
   "cell_type": "markdown",
   "id": "e130a0c5",
   "metadata": {},
   "source": [
    "<a class=\"anchor\" id=\"4-bullet\"><h3><b>Section 4</b>: Analysis - Message Identity Attributes</h3></a> \n",
    "<br>\n",
    "[Back to Menu](#toc)"
   ]
  },
  {
   "cell_type": "markdown",
   "id": "49ac3760",
   "metadata": {},
   "source": [
    "<a class=\"anchor\" id=\"5-bullet\"><h3><b>Section 5</b>: Analysis - Position Attributes</h3></a> \n",
    "<br>\n",
    "[Back to Menu](#toc)"
   ]
  },
  {
   "cell_type": "markdown",
   "id": "c344b356",
   "metadata": {},
   "source": [
    "<a class=\"anchor\" id=\"6-bullet\"><h3><b>Section 6</b>: Analysis - Speed Attributes</h3></a> \n",
    "<br>\n",
    "[Back to Menu](#toc)"
   ]
  },
  {
   "cell_type": "markdown",
   "id": "dcf0714e",
   "metadata": {},
   "source": [
    "<a class=\"anchor\" id=\"7-bullet\"><h3><b>Section 7</b>: Analysis - Acceleration Attributes</h3></a> \n",
    "<br>\n",
    "[Back to Menu](#toc)"
   ]
  },
  {
   "cell_type": "markdown",
   "id": "1b2a3da9",
   "metadata": {},
   "source": [
    "<a class=\"anchor\" id=\"8-bullet\"><h3><b>Section 8</b>: Analysis - Heading Position Attributes</h3></a> \n",
    "<br>\n",
    "[Back to Menu](#toc)"
   ]
  },
  {
   "cell_type": "markdown",
   "id": "a84e8aad",
   "metadata": {},
   "source": [
    "<i>End of this section</i>"
   ]
  }
 ],
 "metadata": {
  "kernelspec": {
   "display_name": "Python 3 (ipykernel)",
   "language": "python",
   "name": "python3"
  },
  "language_info": {
   "codemirror_mode": {
    "name": "ipython",
    "version": 3
   },
   "file_extension": ".py",
   "mimetype": "text/x-python",
   "name": "python",
   "nbconvert_exporter": "python",
   "pygments_lexer": "ipython3",
   "version": "3.9.13"
  }
 },
 "nbformat": 4,
 "nbformat_minor": 5
}
