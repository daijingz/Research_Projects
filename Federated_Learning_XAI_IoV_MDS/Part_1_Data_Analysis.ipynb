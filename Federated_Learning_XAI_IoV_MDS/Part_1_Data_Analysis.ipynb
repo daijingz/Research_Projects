{
 "cells": [
  {
   "cell_type": "markdown",
   "id": "1b778de0",
   "metadata": {},
   "source": [
    "# IoV FL-based Misbehavior Detection Part 1 - Data Analysis"
   ]
  },
  {
   "cell_type": "markdown",
   "id": "8dc52b37",
   "metadata": {},
   "source": [
    "<b>Author</b>: Jingze Dai, McMaster University\n",
    "<br>\n",
    "<b>Research Supervisor</b>: Dr.Jiaqi Huang, University of Central Missouri\n",
    "<br>\n",
    "<b>Key Topics</b>: Federated Learning, Explainable AI"
   ]
  },
  {
   "cell_type": "markdown",
   "id": "2b778358",
   "metadata": {},
   "source": [
    "<a name=\"toc\"></a>\n",
    "## Table of Contents\n",
    "* [Section 1: Summary of Section Structures](#1-bullet)\n",
    "* [Section 2: Environment Setup](#2-bullet)\n",
    "* [Section 3: Data Cleaning](#3-bullet)\n",
    "* [Section 4: Analysis - Message Identity Attributes](#4-bullet)\n",
    "* [Section 5: Analysis - Position Attributes](#5-bullet)\n",
    "* [Section 6: Analysis - Speed Attributes](#6-bullet)\n",
    "* [Section 7: Analysis - Acceleration Attributes](#7-bullet)\n",
    "* [Section 8: Analysis - Heading Position Attributes](#8-bullet)"
   ]
  },
  {
   "cell_type": "markdown",
   "id": "7319a081",
   "metadata": {},
   "source": [
    "<a class=\"anchor\" id=\"1-bullet\"><h3><b>Section 1</b>: Summary of Section Structures</h3></a> \n",
    "<br>\n",
    "[Back to Menu](#toc)"
   ]
  },
  {
   "cell_type": "markdown",
   "id": "378eb035",
   "metadata": {},
   "source": [
    "<b>Section 1</b>: Summary of Section Structures\n",
    "<ul>\n",
    "  <li><b>This Section</b></li>\n",
    "  <li>Introduces each section's main contents, for a better understanding of readers.</li>\n",
    "</ul>\n",
    "\n",
    "<b>Section 2</b>: Environment Setup\n",
    "<ul>\n",
    "  <li>Builds necessary enviroments and installs required tools.</li>\n",
    "  <li>Load and access datasets.</li>\n",
    "</ul>\n",
    "\n",
    "<b>Section 3</b>: Data Cleaning\n",
    "<ul>\n",
    "  <li>Remove wrong and dirty data, and fix some data problem.</li>\n",
    "</ul>\n",
    "\n",
    "<b>Section 4</b>: Analysis - Message Identity Attributes\n",
    "<ul>\n",
    "  <li>Analysis on message identity attributes - 'type', 'sendTime', 'sender', 'senderPseudo', and 'messageID'.</li>\n",
    "</ul>\n",
    "\n",
    "<b>Section 5</b>: Analysis - Position Attributes\n",
    "<ul>\n",
    "  <li>Analysis on position attributes - 'posx', 'posy', 'posz', 'posx_n', 'posy_n', and 'posz_n'.</li>\n",
    "</ul>\n",
    "\n",
    "<b>Section 6</b>: Analysis - Speed Attributes\n",
    "<ul>\n",
    "  <li>Analysis on speed attributes - 'spdx', 'spdy', 'spdz', 'spdx_n', 'spdy_n', and 'spdz_n'.</li>\n",
    "</ul>\n",
    "\n",
    "<b>Section 7</b>: Analysis - Acceleration Attributes\n",
    "<ul>\n",
    "  <li>Analysis on message identity attributes - 'aclx', 'acly', 'aclz', 'aclx_n', 'acly_n', and 'aclz_n'.</li>\n",
    "</ul>\n",
    "\n",
    "<b>Section 8</b>: Analysis - Heading Position Attributes\n",
    "<ul>\n",
    "  <li>Analysis on heading position attributes - 'hedx', 'hedy', 'hedz', 'hedx_n', 'hedy_n', and 'hedz_n'.</li>\n",
    "</ul>"
   ]
  },
  {
   "cell_type": "markdown",
   "id": "2f3fbc1f",
   "metadata": {},
   "source": [
    "<a class=\"anchor\" id=\"2-bullet\"><h3><b>Section 2</b>: Environment Setup</h3></a> \n",
    "<br>\n",
    "[Back to Menu](#toc)"
   ]
  },
  {
   "cell_type": "code",
   "execution_count": 2,
   "id": "307dd106",
   "metadata": {},
   "outputs": [
    {
     "name": "stdout",
     "output_type": "stream",
     "text": [
      "Column names in the dataset:\n",
      "Index(['type', 'sendTime', 'sender', 'senderPseudo', 'messageID', 'class',\n",
      "       'posx', 'posy', 'posz', 'posx_n', 'posy_n', 'posz_n', 'spdx', 'spdy',\n",
      "       'spdz', 'spdx_n', 'spdy_n', 'spdz_n', 'aclx', 'acly', 'aclz', 'aclx_n',\n",
      "       'acly_n', 'aclz_n', 'hedx', 'hedy', 'hedz', 'hedx_n', 'hedy_n',\n",
      "       'hedz_n'],\n",
      "      dtype='object')\n"
     ]
    }
   ],
   "source": [
    "import pandas as pd\n",
    "\n",
    "file_path = 'mixalldata_clean.csv'\n",
    "df = pd.read_csv(file_path)\n",
    "\n",
    "print(\"Column names in the dataset:\")\n",
    "print(df.columns)"
   ]
  },
  {
   "cell_type": "code",
   "execution_count": 9,
   "id": "2df20583",
   "metadata": {
    "scrolled": true
   },
   "outputs": [
    {
     "name": "stdout",
     "output_type": "stream",
     "text": [
      "   type      sendTime  sender  senderPseudo  messageID  class        posx  \\\n",
      "0     4  72002.302942  130137     101301377  422013806      0  266.982401   \n",
      "1     4  72003.302942  130137     101301377  422023410      0  266.827208   \n",
      "2     4  72004.302942  130137     101301377  422032081      0  266.420297   \n",
      "3     4  72005.302942  130137     101301377  422040712      0  268.912026   \n",
      "4     4  72006.302942  130137     101301377  422052949      0  268.242276   \n",
      "\n",
      "        posy  posz    posx_n  ...  aclz    aclx_n    acly_n  aclz_n      hedx  \\\n",
      "0  32.336955   0.0  3.480882  ...   0.0  0.000862  0.000862     0.0 -0.102790   \n",
      "1  34.624145   0.0  3.546261  ...   0.0  0.000107  0.001040     0.0 -0.099856   \n",
      "2  38.836461   0.0  3.544045  ...   0.0  0.000172  0.001661     0.0 -0.099856   \n",
      "3  45.414229   0.0  3.340080  ...   0.0  0.000171  0.001654     0.0 -0.100172   \n",
      "4  53.729986   0.0  3.328872  ...   0.0  0.000193  0.001852     0.0 -0.097105   \n",
      "\n",
      "       hedy  hedz     hedx_n     hedy_n  hedz_n  \n",
      "0  0.994703   0.0  20.038218  17.541001     0.0  \n",
      "1  0.995002   0.0  20.441139  14.467283     0.0  \n",
      "2  0.995002   0.0  20.850473  11.941528     0.0  \n",
      "3  0.994970   0.0  21.323229   9.633965     0.0  \n",
      "4  0.995274   0.0  21.788034   7.824555     0.0  \n",
      "\n",
      "[5 rows x 30 columns]\n"
     ]
    }
   ],
   "source": [
    "print(df.head())"
   ]
  },
  {
   "cell_type": "code",
   "execution_count": 10,
   "id": "64c07526",
   "metadata": {},
   "outputs": [
    {
     "name": "stdout",
     "output_type": "stream",
     "text": [
      "Number of records in the dataset: 3194808\n"
     ]
    }
   ],
   "source": [
    "num_records = df.shape[0]\n",
    "\n",
    "print(f\"Number of records in the dataset: {num_records}\")"
   ]
  },
  {
   "cell_type": "code",
   "execution_count": 11,
   "id": "cbd5d17c",
   "metadata": {},
   "outputs": [
    {
     "name": "stdout",
     "output_type": "stream",
     "text": [
      "Data types:\n",
      "type              int64\n",
      "sendTime        float64\n",
      "sender            int64\n",
      "senderPseudo      int64\n",
      "messageID         int64\n",
      "class             int64\n",
      "posx            float64\n",
      "posy            float64\n",
      "posz            float64\n",
      "posx_n          float64\n",
      "posy_n          float64\n",
      "posz_n          float64\n",
      "spdx            float64\n",
      "spdy            float64\n",
      "spdz            float64\n",
      "spdx_n          float64\n",
      "spdy_n          float64\n",
      "spdz_n          float64\n",
      "aclx            float64\n",
      "acly            float64\n",
      "aclz            float64\n",
      "aclx_n          float64\n",
      "acly_n          float64\n",
      "aclz_n          float64\n",
      "hedx            float64\n",
      "hedy            float64\n",
      "hedz            float64\n",
      "hedx_n          float64\n",
      "hedy_n          float64\n",
      "hedz_n          float64\n",
      "dtype: object\n"
     ]
    }
   ],
   "source": [
    "data_types = df.dtypes\n",
    "\n",
    "print(\"Data types:\")\n",
    "print(data_types)"
   ]
  },
  {
   "cell_type": "code",
   "execution_count": 14,
   "id": "90ffaea2",
   "metadata": {},
   "outputs": [
    {
     "name": "stdout",
     "output_type": "stream",
     "text": [
      "Number of attributes in each record: 30\n"
     ]
    }
   ],
   "source": [
    "num_records = df.shape[1]\n",
    "\n",
    "print(f\"Number of attributes in each record: {num_records}\")"
   ]
  },
  {
   "cell_type": "markdown",
   "id": "6d66be29",
   "metadata": {},
   "source": [
    "The Attribute 'Class' represents the category of each V2X message. 0 represents this message has <b>normal behavior</b>, and 1 to 19 represent this message has 1 of 19 <b>misbehaviors</b> (Some are errors while others are attacks)."
   ]
  },
  {
   "cell_type": "markdown",
   "id": "166284f4",
   "metadata": {},
   "source": [
    "<a class=\"anchor\" id=\"3-bullet\"><h3><b>Section 3</b>: Data Cleaning</h3></a> \n",
    "<br>\n",
    "[Back to Menu](#toc)"
   ]
  },
  {
   "cell_type": "markdown",
   "id": "5615c0af",
   "metadata": {},
   "source": [
    "<i>The provided dataset \"mixalldata_clean.csv\" is already data-cleanned. However, data cleaning processes are still executed below.</i>"
   ]
  },
  {
   "cell_type": "markdown",
   "id": "cb7f61fa",
   "metadata": {},
   "source": [
    "<p><b>Potential Problem 1</b>: unnamed columns -> <b>Does Not Exist</b>, by observation, all 30 column have valid names.</p>\n",
    "<p><b>Potential Problem 2</b>: existence of null values.</p>"
   ]
  },
  {
   "cell_type": "code",
   "execution_count": 15,
   "id": "80b6b3bb",
   "metadata": {},
   "outputs": [
    {
     "name": "stdout",
     "output_type": "stream",
     "text": [
      "          type  sendTime  sender  senderPseudo  messageID  class   posx  \\\n",
      "0        False     False   False         False      False  False  False   \n",
      "1        False     False   False         False      False  False  False   \n",
      "2        False     False   False         False      False  False  False   \n",
      "3        False     False   False         False      False  False  False   \n",
      "4        False     False   False         False      False  False  False   \n",
      "...        ...       ...     ...           ...        ...    ...    ...   \n",
      "3194803  False     False   False         False      False  False  False   \n",
      "3194804  False     False   False         False      False  False  False   \n",
      "3194805  False     False   False         False      False  False  False   \n",
      "3194806  False     False   False         False      False  False  False   \n",
      "3194807  False     False   False         False      False  False  False   \n",
      "\n",
      "          posy   posz  posx_n  ...   aclz  aclx_n  acly_n  aclz_n   hedx  \\\n",
      "0        False  False   False  ...  False   False   False   False  False   \n",
      "1        False  False   False  ...  False   False   False   False  False   \n",
      "2        False  False   False  ...  False   False   False   False  False   \n",
      "3        False  False   False  ...  False   False   False   False  False   \n",
      "4        False  False   False  ...  False   False   False   False  False   \n",
      "...        ...    ...     ...  ...    ...     ...     ...     ...    ...   \n",
      "3194803  False  False   False  ...  False   False   False   False  False   \n",
      "3194804  False  False   False  ...  False   False   False   False  False   \n",
      "3194805  False  False   False  ...  False   False   False   False  False   \n",
      "3194806  False  False   False  ...  False   False   False   False  False   \n",
      "3194807  False  False   False  ...  False   False   False   False  False   \n",
      "\n",
      "          hedy   hedz  hedx_n  hedy_n  hedz_n  \n",
      "0        False  False   False   False   False  \n",
      "1        False  False   False   False   False  \n",
      "2        False  False   False   False   False  \n",
      "3        False  False   False   False   False  \n",
      "4        False  False   False   False   False  \n",
      "...        ...    ...     ...     ...     ...  \n",
      "3194803  False  False   False   False   False  \n",
      "3194804  False  False   False   False   False  \n",
      "3194805  False  False   False   False   False  \n",
      "3194806  False  False   False   False   False  \n",
      "3194807  False  False   False   False   False  \n",
      "\n",
      "[3194808 rows x 30 columns]\n"
     ]
    }
   ],
   "source": [
    "# At first, display the check on each value is null or not.\n",
    "null_df = df.isnull()\n",
    "print(null_df)"
   ]
  },
  {
   "cell_type": "code",
   "execution_count": 16,
   "id": "513b53d1",
   "metadata": {},
   "outputs": [
    {
     "name": "stdout",
     "output_type": "stream",
     "text": [
      "type            0\n",
      "sendTime        0\n",
      "sender          0\n",
      "senderPseudo    0\n",
      "messageID       0\n",
      "class           0\n",
      "posx            0\n",
      "posy            0\n",
      "posz            0\n",
      "posx_n          0\n",
      "posy_n          0\n",
      "posz_n          0\n",
      "spdx            0\n",
      "spdy            0\n",
      "spdz            0\n",
      "spdx_n          0\n",
      "spdy_n          0\n",
      "spdz_n          0\n",
      "aclx            0\n",
      "acly            0\n",
      "aclz            0\n",
      "aclx_n          0\n",
      "acly_n          0\n",
      "aclz_n          0\n",
      "hedx            0\n",
      "hedy            0\n",
      "hedz            0\n",
      "hedx_n          0\n",
      "hedy_n          0\n",
      "hedz_n          0\n",
      "dtype: int64\n"
     ]
    }
   ],
   "source": [
    "# Secondly, check how many null values on each column, and display their counts.\n",
    "null_val_count = df.isna().sum()\n",
    "print(null_val_count)"
   ]
  },
  {
   "cell_type": "markdown",
   "id": "204263dd",
   "metadata": {},
   "source": [
    "<p>As you can see, this dataset does not have null values, so there is nothing to do with null value removing.</p>\n",
    "\n",
    "<p><b>Potential Problem 3</b>: Wrong-Format Data -> <b>Does Not Exist</b>, by observation, all 30 column have valid types, and their values are consistent with these mentioned types. There is no need to convert them.</p>\n",
    "\n",
    "<p><b>Potential Problem 4</b>: Data with inappropriate values -> <b>Does Not Exist</b>, because the range and other constraints have not been given.</p>\n",
    "\n",
    "<p><b>Potential Problem 5</b>: Duplicate Rows -> <b>Does Not Exist</b>, by observation, there is no repeated rows (comparing all values).</p>"
   ]
  },
  {
   "cell_type": "code",
   "execution_count": 17,
   "id": "886fa064",
   "metadata": {},
   "outputs": [
    {
     "name": "stdout",
     "output_type": "stream",
     "text": [
      "Total Records Duplications: 0\n"
     ]
    }
   ],
   "source": [
    "# Find the total amount of duplicate records\n",
    "duplicate_record = df.duplicated().sum()\n",
    "\n",
    "print(\"Total Records Duplications: \" + str(duplicate_record))"
   ]
  },
  {
   "cell_type": "markdown",
   "id": "ffda9f99",
   "metadata": {},
   "source": [
    "<p>Seems like no rows are repeated, then I check each column, and I found that only the column \"messageID\" needs to have unique values (since they are identifiers). While other columns, accept repetitions on values.</p>"
   ]
  },
  {
   "cell_type": "code",
   "execution_count": 18,
   "id": "9656e4d2",
   "metadata": {},
   "outputs": [
    {
     "name": "stdout",
     "output_type": "stream",
     "text": [
      "Duplicated messageID Rows: 0\n"
     ]
    }
   ],
   "source": [
    "# Find the total amount of records with duplicate \"messageID\"\n",
    "duplicate_rows = df.duplicated(subset=['messageID']).sum()\n",
    "\n",
    "print(\"Duplicated messageID Rows: \" + str(duplicate_rows))"
   ]
  },
  {
   "cell_type": "markdown",
   "id": "e130a0c5",
   "metadata": {},
   "source": [
    "<a class=\"anchor\" id=\"4-bullet\"><h3><b>Section 4</b>: Analysis - Message Identity Attributes</h3></a> \n",
    "<br>\n",
    "[Back to Menu](#toc)"
   ]
  },
  {
   "cell_type": "markdown",
   "id": "fa68dd4e",
   "metadata": {},
   "source": [
    "There are 5 message identity attributes - 'type', 'sendTime', 'sender', 'senderPseudo', and 'messageID'."
   ]
  },
  {
   "cell_type": "code",
   "execution_count": 2,
   "id": "7b45402b",
   "metadata": {},
   "outputs": [
    {
     "name": "stdout",
     "output_type": "stream",
     "text": [
      "Distinct values of 'type':\n",
      "[4]\n",
      "Amount of distinct values:\n",
      "1\n"
     ]
    }
   ],
   "source": [
    "distinct_values = df['type'].unique()\n",
    "\n",
    "print(\"Distinct values of 'type':\")\n",
    "print(distinct_values)\n",
    "\n",
    "print(\"Amount of distinct values:\")\n",
    "print(len(distinct_values))"
   ]
  },
  {
   "cell_type": "code",
   "execution_count": 7,
   "id": "227716b7",
   "metadata": {},
   "outputs": [
    {
     "name": "stdout",
     "output_type": "stream",
     "text": [
      "Minimum value of 'type': 4\n",
      "Maximum value of 'type': 4\n"
     ]
    }
   ],
   "source": [
    "min_value = df['type'].min()\n",
    "max_value = df['type'].max()\n",
    "\n",
    "print(\"Minimum value of 'type':\", min_value)\n",
    "print(\"Maximum value of 'type':\", max_value)"
   ]
  },
  {
   "cell_type": "code",
   "execution_count": 3,
   "id": "7310dac7",
   "metadata": {},
   "outputs": [
    {
     "name": "stdout",
     "output_type": "stream",
     "text": [
      "Distinct values of 'sendTime':\n",
      "[72002.30294186 72003.30294186 72004.30294186 ... 79377.75261029\n",
      " 79378.25261029 79378.75261029]\n",
      "Amount of distinct values in 'sendTime':\n",
      "3194808\n"
     ]
    }
   ],
   "source": [
    "distinct_values = df['sendTime'].unique()\n",
    "\n",
    "print(f\"Distinct values of 'sendTime':\")\n",
    "print(distinct_values)\n",
    "\n",
    "print(f\"Amount of distinct values in 'sendTime':\")\n",
    "print(len(distinct_values))"
   ]
  },
  {
   "cell_type": "code",
   "execution_count": 8,
   "id": "fe608f36",
   "metadata": {},
   "outputs": [
    {
     "name": "stdout",
     "output_type": "stream",
     "text": [
      "Minimum value of 'sendTime': 240.602763370378\n",
      "Maximum value of 'sendTime': 86399.98493806412\n"
     ]
    }
   ],
   "source": [
    "min_value = df['sendTime'].min()\n",
    "max_value = df['sendTime'].max()\n",
    "\n",
    "print(\"Minimum value of 'sendTime':\", min_value)\n",
    "print(\"Maximum value of 'sendTime':\", max_value)"
   ]
  },
  {
   "cell_type": "code",
   "execution_count": 4,
   "id": "9fb6d54d",
   "metadata": {},
   "outputs": [
    {
     "name": "stdout",
     "output_type": "stream",
     "text": [
      "Distinct values of 'sender':\n",
      "[130137 130143 130161 ... 140877 140889 140895]\n",
      "Amount of distinct values in 'sender':\n",
      "24663\n"
     ]
    }
   ],
   "source": [
    "distinct_values = df['sender'].unique()\n",
    "\n",
    "print(f\"Distinct values of 'sender':\")\n",
    "print(distinct_values)\n",
    "\n",
    "print(f\"Amount of distinct values in 'sender':\")\n",
    "print(len(distinct_values))"
   ]
  },
  {
   "cell_type": "code",
   "execution_count": 9,
   "id": "ba304c86",
   "metadata": {},
   "outputs": [
    {
     "name": "stdout",
     "output_type": "stream",
     "text": [
      "Minimum value of 'sender': 9\n",
      "Maximum value of 'sender': 147981\n"
     ]
    }
   ],
   "source": [
    "min_value = df['sender'].min()\n",
    "max_value = df['sender'].max()\n",
    "\n",
    "print(\"Minimum value of 'sender':\", min_value)\n",
    "print(\"Maximum value of 'sender':\", max_value)"
   ]
  },
  {
   "cell_type": "code",
   "execution_count": 12,
   "id": "cdac7ab9",
   "metadata": {},
   "outputs": [
    {
     "name": "stdout",
     "output_type": "stream",
     "text": [
      "Most frequent values of 'sender' and their occurrences:\n",
      "10995     1494\n",
      "120051    1361\n",
      "23913     1301\n",
      "127653    1291\n",
      "64575     1274\n",
      "          ... \n",
      "136533       1\n",
      "126717       1\n",
      "22413        1\n",
      "68967        1\n",
      "119277       1\n",
      "Name: sender, Length: 24663, dtype: int64\n"
     ]
    }
   ],
   "source": [
    "most_frequent_values = df['sender'].value_counts()\n",
    "\n",
    "print(\"Most frequent values of 'sender' and their occurrences:\")\n",
    "print(most_frequent_values)"
   ]
  },
  {
   "cell_type": "code",
   "execution_count": 5,
   "id": "9ec36d35",
   "metadata": {},
   "outputs": [
    {
     "name": "stdout",
     "output_type": "stream",
     "text": [
      "Distinct values of 'senderPseudo':\n",
      "[ 101301377  101301437  101301617 ... 1311474365 1411474365  101408957]\n",
      "Amount of distinct values in 'senderPseudo':\n",
      "118909\n"
     ]
    }
   ],
   "source": [
    "distinct_values = df['senderPseudo'].unique()\n",
    "\n",
    "print(f\"Distinct values of 'senderPseudo':\")\n",
    "print(distinct_values)\n",
    "\n",
    "print(f\"Amount of distinct values in 'senderPseudo':\")\n",
    "print(len(distinct_values))"
   ]
  },
  {
   "cell_type": "code",
   "execution_count": 10,
   "id": "3a5862b3",
   "metadata": {},
   "outputs": [
    {
     "name": "stdout",
     "output_type": "stream",
     "text": [
      "Minimum value of 'senderPseudo': 1\n",
      "Maximum value of 'senderPseudo': 4206511862\n"
     ]
    }
   ],
   "source": [
    "min_value = df['senderPseudo'].min()\n",
    "max_value = df['senderPseudo'].max()\n",
    "\n",
    "print(\"Minimum value of 'senderPseudo':\", min_value)\n",
    "print(\"Maximum value of 'senderPseudo':\", max_value)"
   ]
  },
  {
   "cell_type": "code",
   "execution_count": 13,
   "id": "2103fb39",
   "metadata": {},
   "outputs": [
    {
     "name": "stdout",
     "output_type": "stream",
     "text": [
      "Most frequent values of 'senderPseudo' and their occurrences:\n",
      "1            40853\n",
      "10449913      1223\n",
      "10484113      1116\n",
      "10677914      1079\n",
      "10713914       996\n",
      "             ...  \n",
      "306388441        1\n",
      "23044732         1\n",
      "900947136        1\n",
      "911512346        1\n",
      "350475953        1\n",
      "Name: senderPseudo, Length: 118909, dtype: int64\n"
     ]
    }
   ],
   "source": [
    "most_frequent_values = df['senderPseudo'].value_counts()\n",
    "\n",
    "print(\"Most frequent values of 'senderPseudo' and their occurrences:\")\n",
    "print(most_frequent_values)"
   ]
  },
  {
   "cell_type": "code",
   "execution_count": 6,
   "id": "fe4fe2f7",
   "metadata": {},
   "outputs": [
    {
     "name": "stdout",
     "output_type": "stream",
     "text": [
      "Distinct values of 'messageID':\n",
      "[422013806 422023410 422032081 ... 447809215 447809698 447810281]\n",
      "Amount of distinct values:\n",
      "3194808\n"
     ]
    }
   ],
   "source": [
    "distinct_values = df['messageID'].unique()\n",
    "\n",
    "print(\"Distinct values of 'messageID':\")\n",
    "print(distinct_values)\n",
    "\n",
    "print(\"Amount of distinct values:\")\n",
    "print(len(distinct_values))"
   ]
  },
  {
   "cell_type": "code",
   "execution_count": 11,
   "id": "2f6f12d1",
   "metadata": {},
   "outputs": [
    {
     "name": "stdout",
     "output_type": "stream",
     "text": [
      "Minimum value of 'messageID': 4184\n",
      "Maximum value of 'messageID': 458622809\n"
     ]
    }
   ],
   "source": [
    "min_value = df['messageID'].min()\n",
    "max_value = df['messageID'].max()\n",
    "\n",
    "print(\"Minimum value of 'messageID':\", min_value)\n",
    "print(\"Maximum value of 'messageID':\", max_value)"
   ]
  },
  {
   "cell_type": "markdown",
   "id": "54ba2376",
   "metadata": {},
   "source": [
    "<i>Below there are some more complicated analysis: </i>"
   ]
  },
  {
   "cell_type": "code",
   "execution_count": 14,
   "id": "efbba25c",
   "metadata": {},
   "outputs": [
    {
     "name": "stdout",
     "output_type": "stream",
     "text": [
      "Value distribution of 'sender' when senderPseudo = 1:\n",
      "1875      716\n",
      "57735     673\n",
      "99153     652\n",
      "10995     638\n",
      "15933     609\n",
      "         ... \n",
      "24675       1\n",
      "54315       1\n",
      "71031       1\n",
      "40635       1\n",
      "120813      1\n",
      "Name: sender, Length: 377, dtype: int64\n"
     ]
    }
   ],
   "source": [
    "filtered_df = df[df['senderPseudo'] == 1]\n",
    "\n",
    "sender_distribution = filtered_df['sender'].value_counts()\n",
    "\n",
    "print(\"Value distribution of 'sender' when senderPseudo = 1:\")\n",
    "print(sender_distribution)"
   ]
  },
  {
   "cell_type": "code",
   "execution_count": 5,
   "id": "c01e2386",
   "metadata": {},
   "outputs": [
    {
     "name": "stdout",
     "output_type": "stream",
     "text": [
      "Value distribution of 'sender' when senderPseudo = 10449913:\n",
      "44991    1223\n",
      "Name: sender, dtype: int64\n"
     ]
    }
   ],
   "source": [
    "filtered_df = df[df['senderPseudo'] == 10449913]\n",
    "\n",
    "sender_distribution = filtered_df['sender'].value_counts()\n",
    "\n",
    "print(\"Value distribution of 'sender' when senderPseudo = 10449913:\")\n",
    "print(sender_distribution)"
   ]
  },
  {
   "cell_type": "code",
   "execution_count": 6,
   "id": "3a294754",
   "metadata": {},
   "outputs": [
    {
     "name": "stdout",
     "output_type": "stream",
     "text": [
      "Value distribution of 'sender' when senderPseudo = 10484113:\n",
      "48411    1116\n",
      "Name: sender, dtype: int64\n"
     ]
    }
   ],
   "source": [
    "filtered_df = df[df['senderPseudo'] == 10484113]\n",
    "\n",
    "sender_distribution = filtered_df['sender'].value_counts()\n",
    "\n",
    "print(\"Value distribution of 'sender' when senderPseudo = 10484113:\")\n",
    "print(sender_distribution)"
   ]
  },
  {
   "cell_type": "code",
   "execution_count": 7,
   "id": "bbf189d0",
   "metadata": {},
   "outputs": [
    {
     "name": "stdout",
     "output_type": "stream",
     "text": [
      "Value distribution of 'sender' when senderPseudo = 10677914:\n",
      "67791    1079\n",
      "Name: sender, dtype: int64\n"
     ]
    }
   ],
   "source": [
    "filtered_df = df[df['senderPseudo'] == 10677914]\n",
    "\n",
    "sender_distribution = filtered_df['sender'].value_counts()\n",
    "\n",
    "print(\"Value distribution of 'sender' when senderPseudo = 10677914:\")\n",
    "print(sender_distribution)"
   ]
  },
  {
   "cell_type": "code",
   "execution_count": 8,
   "id": "5a7b60bf",
   "metadata": {},
   "outputs": [
    {
     "name": "stdout",
     "output_type": "stream",
     "text": [
      "Value distribution of 'sender' when senderPseudo = 10713914:\n",
      "71391    996\n",
      "Name: sender, dtype: int64\n"
     ]
    }
   ],
   "source": [
    "filtered_df = df[df['senderPseudo'] == 10713914]\n",
    "\n",
    "sender_distribution = filtered_df['sender'].value_counts()\n",
    "\n",
    "print(\"Value distribution of 'sender' when senderPseudo = 10713914:\")\n",
    "print(sender_distribution)"
   ]
  },
  {
   "cell_type": "code",
   "execution_count": 11,
   "id": "2122d14b",
   "metadata": {},
   "outputs": [
    {
     "name": "stdout",
     "output_type": "stream",
     "text": [
      "Value distribution of 'senderPseudo' when sender = 10995:\n",
      "1           638\n",
      "20109952    169\n",
      "10109952    153\n",
      "30109952    145\n",
      "40109952    143\n",
      "50109952    140\n",
      "60109952    106\n",
      "Name: senderPseudo, dtype: int64\n"
     ]
    }
   ],
   "source": [
    "filtered_df = df[df['sender'] == 10995]\n",
    "\n",
    "sender_distribution = filtered_df['senderPseudo'].value_counts()\n",
    "\n",
    "print(\"Value distribution of 'senderPseudo' when sender = 10995:\")\n",
    "print(sender_distribution)"
   ]
  },
  {
   "cell_type": "code",
   "execution_count": 9,
   "id": "9ba6707b",
   "metadata": {},
   "outputs": [
    {
     "name": "stdout",
     "output_type": "stream",
     "text": [
      "Value distribution of 'senderPseudo' when sender = 120051:\n",
      "1            332\n",
      "101200516    209\n",
      "301200516    208\n",
      "501200516    204\n",
      "201200516    193\n",
      "401200516    112\n",
      "601200516    103\n",
      "Name: senderPseudo, dtype: int64\n"
     ]
    }
   ],
   "source": [
    "filtered_df = df[df['sender'] == 120051]\n",
    "\n",
    "sender_distribution = filtered_df['senderPseudo'].value_counts()\n",
    "\n",
    "print(\"Value distribution of 'senderPseudo' when sender = 120051:\")\n",
    "print(sender_distribution)"
   ]
  },
  {
   "cell_type": "code",
   "execution_count": 10,
   "id": "c2d00f50",
   "metadata": {},
   "outputs": [
    {
     "name": "stdout",
     "output_type": "stream",
     "text": [
      "Value distribution of 'senderPseudo' when sender = 23913:\n",
      "1           327\n",
      "30239132    217\n",
      "10239132    214\n",
      "50239132    145\n",
      "20239132    145\n",
      "40239132    133\n",
      "60239132    120\n",
      "Name: senderPseudo, dtype: int64\n"
     ]
    }
   ],
   "source": [
    "filtered_df = df[df['sender'] == 23913]\n",
    "\n",
    "sender_distribution = filtered_df['senderPseudo'].value_counts()\n",
    "\n",
    "print(\"Value distribution of 'senderPseudo' when sender = 23913:\")\n",
    "print(sender_distribution)"
   ]
  },
  {
   "cell_type": "code",
   "execution_count": 12,
   "id": "e25ef6ff",
   "metadata": {},
   "outputs": [
    {
     "name": "stdout",
     "output_type": "stream",
     "text": [
      "Value distribution of 'senderPseudo' when sender = 127653:\n",
      "1            343\n",
      "201276537    185\n",
      "401276537    169\n",
      "301276537    165\n",
      "501276537    155\n",
      "101276537    151\n",
      "601276537    123\n",
      "Name: senderPseudo, dtype: int64\n"
     ]
    }
   ],
   "source": [
    "filtered_df = df[df['sender'] == 127653]\n",
    "\n",
    "sender_distribution = filtered_df['senderPseudo'].value_counts()\n",
    "\n",
    "print(\"Value distribution of 'senderPseudo' when sender = 127653:\")\n",
    "print(sender_distribution)"
   ]
  },
  {
   "cell_type": "code",
   "execution_count": 13,
   "id": "40b2f420",
   "metadata": {},
   "outputs": [
    {
     "name": "stdout",
     "output_type": "stream",
     "text": [
      "Value distribution of 'senderPseudo' when sender = 64575:\n",
      "10645754    211\n",
      "30645754    202\n",
      "50645754    194\n",
      "20645754    185\n",
      "40645754    169\n",
      "1           161\n",
      "60645754    152\n",
      "Name: senderPseudo, dtype: int64\n"
     ]
    }
   ],
   "source": [
    "filtered_df = df[df['sender'] == 64575]\n",
    "\n",
    "sender_distribution = filtered_df['senderPseudo'].value_counts()\n",
    "\n",
    "print(\"Value distribution of 'senderPseudo' when sender = 64575:\")\n",
    "print(sender_distribution)"
   ]
  },
  {
   "cell_type": "markdown",
   "id": "49ac3760",
   "metadata": {},
   "source": [
    "<a class=\"anchor\" id=\"5-bullet\"><h3><b>Section 5</b>: Analysis - Position Attributes</h3></a> \n",
    "<br>\n",
    "[Back to Menu](#toc)"
   ]
  },
  {
   "cell_type": "markdown",
   "id": "a9d9d764",
   "metadata": {},
   "source": [
    "There are 6 position attributes - 'posx', 'posy', 'posz', 'posx_n', 'posy_n', and 'posz_n'."
   ]
  },
  {
   "cell_type": "code",
   "execution_count": 26,
   "id": "1d67c732",
   "metadata": {},
   "outputs": [
    {
     "name": "stdout",
     "output_type": "stream",
     "text": [
      "Distinct values of 'posx':\n",
      "[266.98240149 266.8272084  266.42029673 ... 224.85690015 223.17498692\n",
      " 222.24713112]\n",
      "Amount of distinct values in 'posx':\n",
      "2665316\n"
     ]
    }
   ],
   "source": [
    "distinct_values = df['posx'].unique()\n",
    "\n",
    "print(f\"Distinct values of 'posx':\")\n",
    "print(distinct_values)\n",
    "\n",
    "print(f\"Amount of distinct values in 'posx':\")\n",
    "print(len(distinct_values))"
   ]
  },
  {
   "cell_type": "code",
   "execution_count": 14,
   "id": "ced97df2",
   "metadata": {},
   "outputs": [
    {
     "name": "stdout",
     "output_type": "stream",
     "text": [
      "Minimum value of 'posx': -20.012992182835962\n",
      "Maximum value of 'posx': 1518.9556909741427\n"
     ]
    }
   ],
   "source": [
    "min_value = df['posx'].min()\n",
    "max_value = df['posx'].max()\n",
    "\n",
    "print(\"Minimum value of 'posx':\", min_value)\n",
    "print(\"Maximum value of 'posx':\", max_value)"
   ]
  },
  {
   "cell_type": "code",
   "execution_count": 20,
   "id": "2508ac98",
   "metadata": {},
   "outputs": [
    {
     "name": "stdout",
     "output_type": "stream",
     "text": [
      "Most frequent values of 'posx' and their occurrences:\n",
      "0.000000       23420\n",
      "1122.755939      341\n",
      "201.301003       283\n",
      "116.387911       269\n",
      "871.054199       267\n",
      "               ...  \n",
      "626.476901         1\n",
      "695.610841         1\n",
      "178.334344         1\n",
      "203.314731         1\n",
      "1028.601987        1\n",
      "Name: posx, Length: 2665316, dtype: int64\n"
     ]
    }
   ],
   "source": [
    "most_frequent_values = df['posx'].value_counts()\n",
    "\n",
    "print(\"Most frequent values of 'posx' and their occurrences:\")\n",
    "print(most_frequent_values)"
   ]
  },
  {
   "cell_type": "code",
   "execution_count": 27,
   "id": "e2416681",
   "metadata": {},
   "outputs": [
    {
     "name": "stdout",
     "output_type": "stream",
     "text": [
      "Distinct values of 'posy':\n",
      "[ 32.33695481  34.62414468  38.83646124 ... 310.85491439 321.59727307\n",
      " 328.01369459]\n",
      "Amount of distinct values in 'posy':\n",
      "2665325\n"
     ]
    }
   ],
   "source": [
    "distinct_values = df['posy'].unique()\n",
    "\n",
    "print(f\"Distinct values of 'posy':\")\n",
    "print(distinct_values)\n",
    "\n",
    "print(f\"Amount of distinct values in 'posy':\")\n",
    "print(len(distinct_values))"
   ]
  },
  {
   "cell_type": "code",
   "execution_count": 15,
   "id": "0362e0a7",
   "metadata": {},
   "outputs": [
    {
     "name": "stdout",
     "output_type": "stream",
     "text": [
      "Minimum value of 'posy': -22.479557911313783\n",
      "Maximum value of 'posy': 1522.6086272866387\n"
     ]
    }
   ],
   "source": [
    "min_value = df['posy'].min()\n",
    "max_value = df['posy'].max()\n",
    "\n",
    "print(\"Minimum value of 'posy':\", min_value)\n",
    "print(\"Maximum value of 'posy':\", max_value)"
   ]
  },
  {
   "cell_type": "code",
   "execution_count": 21,
   "id": "3dff94d1",
   "metadata": {},
   "outputs": [
    {
     "name": "stdout",
     "output_type": "stream",
     "text": [
      "Most frequent values of 'posy' and their occurrences:\n",
      "0.000000      23420\n",
      "296.065121      341\n",
      "224.840560      283\n",
      "888.557748      269\n",
      "542.238381      267\n",
      "              ...  \n",
      "273.422724        1\n",
      "33.040097         1\n",
      "953.748244        1\n",
      "928.577874        1\n",
      "892.570309        1\n",
      "Name: posy, Length: 2665325, dtype: int64\n"
     ]
    }
   ],
   "source": [
    "most_frequent_values = df['posy'].value_counts()\n",
    "\n",
    "print(\"Most frequent values of 'posy' and their occurrences:\")\n",
    "print(most_frequent_values)"
   ]
  },
  {
   "cell_type": "code",
   "execution_count": 28,
   "id": "c47dec43",
   "metadata": {},
   "outputs": [
    {
     "name": "stdout",
     "output_type": "stream",
     "text": [
      "Distinct values of 'posz':\n",
      "[0.]\n",
      "Amount of distinct values in 'posz':\n",
      "1\n"
     ]
    }
   ],
   "source": [
    "distinct_values = df['posz'].unique()\n",
    "\n",
    "print(f\"Distinct values of 'posz':\")\n",
    "print(distinct_values)\n",
    "\n",
    "print(f\"Amount of distinct values in 'posz':\")\n",
    "print(len(distinct_values))"
   ]
  },
  {
   "cell_type": "code",
   "execution_count": 16,
   "id": "ee137d7f",
   "metadata": {},
   "outputs": [
    {
     "name": "stdout",
     "output_type": "stream",
     "text": [
      "Minimum value of 'posz': 0.0\n",
      "Maximum value of 'posz': 0.0\n"
     ]
    }
   ],
   "source": [
    "min_value = df['posz'].min()\n",
    "max_value = df['posz'].max()\n",
    "\n",
    "print(\"Minimum value of 'posz':\", min_value)\n",
    "print(\"Maximum value of 'posz':\", max_value)"
   ]
  },
  {
   "cell_type": "code",
   "execution_count": 22,
   "id": "4f942c70",
   "metadata": {},
   "outputs": [
    {
     "name": "stdout",
     "output_type": "stream",
     "text": [
      "Most frequent values of 'posz' and their occurrences:\n",
      "0.0    3194808\n",
      "Name: posz, dtype: int64\n"
     ]
    }
   ],
   "source": [
    "most_frequent_values = df['posz'].value_counts()\n",
    "\n",
    "print(\"Most frequent values of 'posz' and their occurrences:\")\n",
    "print(most_frequent_values)"
   ]
  },
  {
   "cell_type": "code",
   "execution_count": 29,
   "id": "3e373322",
   "metadata": {},
   "outputs": [
    {
     "name": "stdout",
     "output_type": "stream",
     "text": [
      "Distinct values of 'posx_n':\n",
      "[3.48088247 3.5462606  3.54404455 ... 3.50654891 3.63467052 3.34195205]\n",
      "Amount of distinct values in 'posx_n':\n",
      "2511396\n"
     ]
    }
   ],
   "source": [
    "distinct_values = df['posx_n'].unique()\n",
    "\n",
    "print(f\"Distinct values of 'posx_n':\")\n",
    "print(distinct_values)\n",
    "\n",
    "print(f\"Amount of distinct values in 'posx_n':\")\n",
    "print(len(distinct_values))"
   ]
  },
  {
   "cell_type": "code",
   "execution_count": 17,
   "id": "a76703e8",
   "metadata": {},
   "outputs": [
    {
     "name": "stdout",
     "output_type": "stream",
     "text": [
      "Minimum value of 'posx_n': 0.0\n",
      "Maximum value of 'posx_n': 8.245799564253035\n"
     ]
    }
   ],
   "source": [
    "min_value = df['posx_n'].min()\n",
    "max_value = df['posx_n'].max()\n",
    "\n",
    "print(\"Minimum value of 'posx_n':\", min_value)\n",
    "print(\"Maximum value of 'posx_n':\", max_value)"
   ]
  },
  {
   "cell_type": "code",
   "execution_count": 23,
   "id": "d913b3d9",
   "metadata": {},
   "outputs": [
    {
     "name": "stdout",
     "output_type": "stream",
     "text": [
      "Most frequent values of 'posx_n' and their occurrences:\n",
      "0.000000    23467\n",
      "4.185654      436\n",
      "3.161534      297\n",
      "3.059389      269\n",
      "4.568067      266\n",
      "            ...  \n",
      "4.260074        1\n",
      "4.447737        1\n",
      "3.549270        1\n",
      "4.391230        1\n",
      "4.629670        1\n",
      "Name: posx_n, Length: 2511396, dtype: int64\n"
     ]
    }
   ],
   "source": [
    "most_frequent_values = df['posx_n'].value_counts()\n",
    "\n",
    "print(\"Most frequent values of 'posx_n' and their occurrences:\")\n",
    "print(most_frequent_values)"
   ]
  },
  {
   "cell_type": "code",
   "execution_count": 30,
   "id": "84e7c66a",
   "metadata": {},
   "outputs": [
    {
     "name": "stdout",
     "output_type": "stream",
     "text": [
      "Distinct values of 'posy_n':\n",
      "[3.47318391 3.57052407 3.43206785 ... 3.34484057 3.32893055 3.29684768]\n",
      "Amount of distinct values in 'posy_n':\n",
      "2511396\n"
     ]
    }
   ],
   "source": [
    "distinct_values = df['posy_n'].unique()\n",
    "\n",
    "print(f\"Distinct values of 'posy_n':\")\n",
    "print(distinct_values)\n",
    "\n",
    "print(f\"Amount of distinct values in 'posy_n':\")\n",
    "print(len(distinct_values))"
   ]
  },
  {
   "cell_type": "code",
   "execution_count": 18,
   "id": "21bbd729",
   "metadata": {},
   "outputs": [
    {
     "name": "stdout",
     "output_type": "stream",
     "text": [
      "Minimum value of 'posy_n': 0.0\n",
      "Maximum value of 'posy_n': 8.29282635651494\n"
     ]
    }
   ],
   "source": [
    "min_value = df['posy_n'].min()\n",
    "max_value = df['posy_n'].max()\n",
    "\n",
    "print(\"Minimum value of 'posy_n':\", min_value)\n",
    "print(\"Maximum value of 'posy_n':\", max_value)"
   ]
  },
  {
   "cell_type": "code",
   "execution_count": 24,
   "id": "72e29c2e",
   "metadata": {},
   "outputs": [
    {
     "name": "stdout",
     "output_type": "stream",
     "text": [
      "Most frequent values of 'posy_n' and their occurrences:\n",
      "0.000000    23467\n",
      "4.195968      436\n",
      "3.229807      297\n",
      "3.088235      269\n",
      "4.438285      266\n",
      "            ...  \n",
      "3.822297        1\n",
      "3.439644        1\n",
      "3.708630        1\n",
      "4.155950        1\n",
      "4.561010        1\n",
      "Name: posy_n, Length: 2511396, dtype: int64\n"
     ]
    }
   ],
   "source": [
    "most_frequent_values = df['posy_n'].value_counts()\n",
    "\n",
    "print(\"Most frequent values of 'posy_n' and their occurrences:\")\n",
    "print(most_frequent_values)"
   ]
  },
  {
   "cell_type": "code",
   "execution_count": 31,
   "id": "face891b",
   "metadata": {},
   "outputs": [
    {
     "name": "stdout",
     "output_type": "stream",
     "text": [
      "Distinct values of 'posz_n':\n",
      "[0.]\n",
      "Amount of distinct values in 'posz_n':\n",
      "1\n"
     ]
    }
   ],
   "source": [
    "distinct_values = df['posz_n'].unique()\n",
    "\n",
    "print(f\"Distinct values of 'posz_n':\")\n",
    "print(distinct_values)\n",
    "\n",
    "print(f\"Amount of distinct values in 'posz_n':\")\n",
    "print(len(distinct_values))"
   ]
  },
  {
   "cell_type": "code",
   "execution_count": 19,
   "id": "bc863fbe",
   "metadata": {},
   "outputs": [
    {
     "name": "stdout",
     "output_type": "stream",
     "text": [
      "Minimum value of 'posz_n': 0.0\n",
      "Maximum value of 'posz_n': 0.0\n"
     ]
    }
   ],
   "source": [
    "min_value = df['posz_n'].min()\n",
    "max_value = df['posz_n'].max()\n",
    "\n",
    "print(\"Minimum value of 'posz_n':\", min_value)\n",
    "print(\"Maximum value of 'posz_n':\", max_value)"
   ]
  },
  {
   "cell_type": "code",
   "execution_count": 25,
   "id": "206467eb",
   "metadata": {},
   "outputs": [
    {
     "name": "stdout",
     "output_type": "stream",
     "text": [
      "Most frequent values of 'posz_n' and their occurrences:\n",
      "0.0    3194808\n",
      "Name: posz_n, dtype: int64\n"
     ]
    }
   ],
   "source": [
    "most_frequent_values = df['posz_n'].value_counts()\n",
    "\n",
    "print(\"Most frequent values of 'posz_n' and their occurrences:\")\n",
    "print(most_frequent_values)"
   ]
  },
  {
   "cell_type": "markdown",
   "id": "d73ce51a",
   "metadata": {},
   "source": [
    "<i>Below there are some more complicated analysis: </i>"
   ]
  },
  {
   "cell_type": "code",
   "execution_count": null,
   "id": "3b099b6f",
   "metadata": {},
   "outputs": [],
   "source": []
  },
  {
   "cell_type": "markdown",
   "id": "c344b356",
   "metadata": {},
   "source": [
    "<a class=\"anchor\" id=\"6-bullet\"><h3><b>Section 6</b>: Analysis - Speed Attributes</h3></a> \n",
    "<br>\n",
    "[Back to Menu](#toc)"
   ]
  },
  {
   "cell_type": "code",
   "execution_count": null,
   "id": "0d5b0f6c",
   "metadata": {},
   "outputs": [],
   "source": []
  },
  {
   "cell_type": "markdown",
   "id": "dcf0714e",
   "metadata": {},
   "source": [
    "<a class=\"anchor\" id=\"7-bullet\"><h3><b>Section 7</b>: Analysis - Acceleration Attributes</h3></a> \n",
    "<br>\n",
    "[Back to Menu](#toc)"
   ]
  },
  {
   "cell_type": "code",
   "execution_count": null,
   "id": "01c161a0",
   "metadata": {},
   "outputs": [],
   "source": []
  },
  {
   "cell_type": "markdown",
   "id": "1b2a3da9",
   "metadata": {},
   "source": [
    "<a class=\"anchor\" id=\"8-bullet\"><h3><b>Section 8</b>: Analysis - Heading Position Attributes</h3></a> \n",
    "<br>\n",
    "[Back to Menu](#toc)"
   ]
  },
  {
   "cell_type": "code",
   "execution_count": null,
   "id": "5c25a965",
   "metadata": {},
   "outputs": [],
   "source": []
  },
  {
   "cell_type": "markdown",
   "id": "a84e8aad",
   "metadata": {},
   "source": [
    "<i>End of this section</i>"
   ]
  }
 ],
 "metadata": {
  "kernelspec": {
   "display_name": "Python 3 (ipykernel)",
   "language": "python",
   "name": "python3"
  },
  "language_info": {
   "codemirror_mode": {
    "name": "ipython",
    "version": 3
   },
   "file_extension": ".py",
   "mimetype": "text/x-python",
   "name": "python",
   "nbconvert_exporter": "python",
   "pygments_lexer": "ipython3",
   "version": "3.9.13"
  }
 },
 "nbformat": 4,
 "nbformat_minor": 5
}
